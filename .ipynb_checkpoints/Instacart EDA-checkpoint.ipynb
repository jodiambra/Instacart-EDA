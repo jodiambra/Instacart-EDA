{
 "cells": [
  {
   "cell_type": "markdown",
   "id": "5a4c56c6",
   "metadata": {
    "toc": true
   },
   "source": [
    "<h1>Table of Contents<span class=\"tocSkip\"></span></h1>\n",
    "<div class=\"toc\"><ul class=\"toc-item\"><li><span><a href=\"#Loading-the-data\" data-toc-modified-id=\"Loading-the-data-1\"><span class=\"toc-item-num\">1&nbsp;&nbsp;</span>Loading the data</a></span><ul class=\"toc-item\"><li><span><a href=\"#Loading-the-data-from-the-csv-files\" data-toc-modified-id=\"Loading-the-data-from-the-csv-files-1.1\"><span class=\"toc-item-num\">1.1&nbsp;&nbsp;</span>Loading the data from the csv files</a></span></li><li><span><a href=\"#Conclusions-on-data\" data-toc-modified-id=\"Conclusions-on-data-1.2\"><span class=\"toc-item-num\">1.2&nbsp;&nbsp;</span>Conclusions on data</a></span></li></ul></li><li><span><a href=\"#Find-and-remove-duplicate-values\" data-toc-modified-id=\"Find-and-remove-duplicate-values-2\"><span class=\"toc-item-num\">2&nbsp;&nbsp;</span>Find and remove duplicate values</a></span><ul class=\"toc-item\"><li><span><a href=\"#orders-data-frame\" data-toc-modified-id=\"orders-data-frame-2.1\"><span class=\"toc-item-num\">2.1&nbsp;&nbsp;</span><code>orders</code> data frame</a></span><ul class=\"toc-item\"><li><span><a href=\"#Conclusions-on-orders-dataframe\" data-toc-modified-id=\"Conclusions-on-orders-dataframe-2.1.1\"><span class=\"toc-item-num\">2.1.1&nbsp;&nbsp;</span>Conclusions on orders dataframe</a></span></li></ul></li><li><span><a href=\"#products-data-frame\" data-toc-modified-id=\"products-data-frame-2.2\"><span class=\"toc-item-num\">2.2&nbsp;&nbsp;</span><code>products</code> data frame</a></span><ul class=\"toc-item\"><li><span><a href=\"#Products-Dataframe-Conclusions\" data-toc-modified-id=\"Products-Dataframe-Conclusions-2.2.1\"><span class=\"toc-item-num\">2.2.1&nbsp;&nbsp;</span>Products Dataframe Conclusions</a></span></li></ul></li><li><span><a href=\"#departments-data-frame\" data-toc-modified-id=\"departments-data-frame-2.3\"><span class=\"toc-item-num\">2.3&nbsp;&nbsp;</span><code>departments</code> data frame</a></span><ul class=\"toc-item\"><li><span><a href=\"#Departments-Dataframe-Conclusions\" data-toc-modified-id=\"Departments-Dataframe-Conclusions-2.3.1\"><span class=\"toc-item-num\">2.3.1&nbsp;&nbsp;</span>Departments Dataframe Conclusions</a></span></li></ul></li><li><span><a href=\"#aisles-data-frame\" data-toc-modified-id=\"aisles-data-frame-2.4\"><span class=\"toc-item-num\">2.4&nbsp;&nbsp;</span><code>aisles</code> data frame</a></span><ul class=\"toc-item\"><li><span><a href=\"#Aisles-Dataframe-Conclusions\" data-toc-modified-id=\"Aisles-Dataframe-Conclusions-2.4.1\"><span class=\"toc-item-num\">2.4.1&nbsp;&nbsp;</span>Aisles Dataframe Conclusions</a></span></li></ul></li><li><span><a href=\"#order_products-data-frame\" data-toc-modified-id=\"order_products-data-frame-2.5\"><span class=\"toc-item-num\">2.5&nbsp;&nbsp;</span><code>order_products</code> data frame</a></span><ul class=\"toc-item\"><li><span><a href=\"#Order-Products-Dataframe-Conclusions\" data-toc-modified-id=\"Order-Products-Dataframe-Conclusions-2.5.1\"><span class=\"toc-item-num\">2.5.1&nbsp;&nbsp;</span>Order Products Dataframe Conclusions</a></span></li></ul></li></ul></li><li><span><a href=\"#Find-and-remove-missing-values\" data-toc-modified-id=\"Find-and-remove-missing-values-3\"><span class=\"toc-item-num\">3&nbsp;&nbsp;</span>Find and remove missing values</a></span><ul class=\"toc-item\"><li><span><a href=\"#products-data-frame\" data-toc-modified-id=\"products-data-frame-3.1\"><span class=\"toc-item-num\">3.1&nbsp;&nbsp;</span><code>products</code> data frame</a></span><ul class=\"toc-item\"><li><span><a href=\"#Products-Dataframe-Conclusions\" data-toc-modified-id=\"Products-Dataframe-Conclusions-3.1.1\"><span class=\"toc-item-num\">3.1.1&nbsp;&nbsp;</span>Products Dataframe Conclusions</a></span></li></ul></li><li><span><a href=\"#orders-data-frame\" data-toc-modified-id=\"orders-data-frame-3.2\"><span class=\"toc-item-num\">3.2&nbsp;&nbsp;</span><code>orders</code> data frame</a></span><ul class=\"toc-item\"><li><span><a href=\"#Orders-Dataframe-conclusions\" data-toc-modified-id=\"Orders-Dataframe-conclusions-3.2.1\"><span class=\"toc-item-num\">3.2.1&nbsp;&nbsp;</span>Orders Dataframe conclusions</a></span></li></ul></li><li><span><a href=\"#order_products-data-frame\" data-toc-modified-id=\"order_products-data-frame-3.3\"><span class=\"toc-item-num\">3.3&nbsp;&nbsp;</span><code>order_products</code> data frame</a></span><ul class=\"toc-item\"><li><span><a href=\"#Order-Produts-Dataframe\" data-toc-modified-id=\"Order-Produts-Dataframe-3.3.1\"><span class=\"toc-item-num\">3.3.1&nbsp;&nbsp;</span>Order Produts Dataframe</a></span></li></ul></li><li><span><a href=\"#[A1]-Verify-that-the-'order_hour_of_day'-and-'order_dow'-values-in-the-orders-tables-are-sensible-(i.e.-'order_hour_of_day'-ranges-from-0-to-23-and-'order_dow'-ranges-from-0-to-6)\" data-toc-modified-id=\"[A1]-Verify-that-the-'order_hour_of_day'-and-'order_dow'-values-in-the-orders-tables-are-sensible-(i.e.-'order_hour_of_day'-ranges-from-0-to-23-and-'order_dow'-ranges-from-0-to-6)-3.4\"><span class=\"toc-item-num\">3.4&nbsp;&nbsp;</span>[A1] Verify that the <code>'order_hour_of_day'</code> and <code>'order_dow'</code> values in the <code>orders</code> tables are sensible (i.e. <code>'order_hour_of_day'</code> ranges from 0 to 23 and <code>'order_dow'</code> ranges from 0 to 6)</a></span><ul class=\"toc-item\"><li><span><a href=\"#Results\" data-toc-modified-id=\"Results-3.4.1\"><span class=\"toc-item-num\">3.4.1&nbsp;&nbsp;</span>Results</a></span></li></ul></li><li><span><a href=\"#[A2]-What-time-of-day-do-people-shop-for-groceries?\" data-toc-modified-id=\"[A2]-What-time-of-day-do-people-shop-for-groceries?-3.5\"><span class=\"toc-item-num\">3.5&nbsp;&nbsp;</span>[A2] What time of day do people shop for groceries?</a></span><ul class=\"toc-item\"><li><span><a href=\"#Results\" data-toc-modified-id=\"Results-3.5.1\"><span class=\"toc-item-num\">3.5.1&nbsp;&nbsp;</span>Results</a></span></li></ul></li><li><span><a href=\"#[A3]-What-day-of-the-week-do-people-shop-for-groceries?\" data-toc-modified-id=\"[A3]-What-day-of-the-week-do-people-shop-for-groceries?-3.6\"><span class=\"toc-item-num\">3.6&nbsp;&nbsp;</span>[A3] What day of the week do people shop for groceries?</a></span><ul class=\"toc-item\"><li><span><a href=\"#Results\" data-toc-modified-id=\"Results-3.6.1\"><span class=\"toc-item-num\">3.6.1&nbsp;&nbsp;</span>Results</a></span></li></ul></li><li><span><a href=\"#[A4]-How-long-do-people-wait-until-placing-another-order?\" data-toc-modified-id=\"[A4]-How-long-do-people-wait-until-placing-another-order?-3.7\"><span class=\"toc-item-num\">3.7&nbsp;&nbsp;</span>[A4] How long do people wait until placing another order?</a></span><ul class=\"toc-item\"><li><span><a href=\"#Results\" data-toc-modified-id=\"Results-3.7.1\"><span class=\"toc-item-num\">3.7.1&nbsp;&nbsp;</span>Results</a></span></li></ul></li><li><span><a href=\"#[B1]-Is-there-a-difference-in-'order_hour_of_day'-distributions-on-Wednesdays-and-Saturdays?-Plot-the-histograms-for-both-days-and-describe-the-differences-that-you-see.\" data-toc-modified-id=\"[B1]-Is-there-a-difference-in-'order_hour_of_day'-distributions-on-Wednesdays-and-Saturdays?-Plot-the-histograms-for-both-days-and-describe-the-differences-that-you-see.-3.8\"><span class=\"toc-item-num\">3.8&nbsp;&nbsp;</span>[B1] Is there a difference in <code>'order_hour_of_day'</code> distributions on Wednesdays and Saturdays? Plot the histograms for both days and describe the differences that you see.</a></span><ul class=\"toc-item\"><li><span><a href=\"#Results\" data-toc-modified-id=\"Results-3.8.1\"><span class=\"toc-item-num\">3.8.1&nbsp;&nbsp;</span>Results</a></span></li></ul></li><li><span><a href=\"#[B2]-What's-the-distribution-for-the-number-of-orders-per-customer?\" data-toc-modified-id=\"[B2]-What's-the-distribution-for-the-number-of-orders-per-customer?-3.9\"><span class=\"toc-item-num\">3.9&nbsp;&nbsp;</span>[B2] What's the distribution for the number of orders per customer?</a></span><ul class=\"toc-item\"><li><span><a href=\"#Results\" data-toc-modified-id=\"Results-3.9.1\"><span class=\"toc-item-num\">3.9.1&nbsp;&nbsp;</span>Results</a></span></li></ul></li><li><span><a href=\"#[B3]-What-are-the-top-20-popular-products-(display-their-id-and-name)?\" data-toc-modified-id=\"[B3]-What-are-the-top-20-popular-products-(display-their-id-and-name)?-3.10\"><span class=\"toc-item-num\">3.10&nbsp;&nbsp;</span>[B3] What are the top 20 popular products (display their id and name)?</a></span><ul class=\"toc-item\"><li><span><a href=\"#Results\" data-toc-modified-id=\"Results-3.10.1\"><span class=\"toc-item-num\">3.10.1&nbsp;&nbsp;</span>Results</a></span></li></ul></li><li><span><a href=\"#[C1]-How-many-items-do-people-typically-buy-in-one-order?-What-does-the-distribution-look-like?\" data-toc-modified-id=\"[C1]-How-many-items-do-people-typically-buy-in-one-order?-What-does-the-distribution-look-like?-3.11\"><span class=\"toc-item-num\">3.11&nbsp;&nbsp;</span>[C1] How many items do people typically buy in one order? What does the distribution look like?</a></span><ul class=\"toc-item\"><li><span><a href=\"#Results\" data-toc-modified-id=\"Results-3.11.1\"><span class=\"toc-item-num\">3.11.1&nbsp;&nbsp;</span>Results</a></span></li></ul></li><li><span><a href=\"#[C2]-What-are-the-top-20-items-that-are-reordered-most-frequently-(display-their-names-and-product-IDs)?\" data-toc-modified-id=\"[C2]-What-are-the-top-20-items-that-are-reordered-most-frequently-(display-their-names-and-product-IDs)?-3.12\"><span class=\"toc-item-num\">3.12&nbsp;&nbsp;</span>[C2] What are the top 20 items that are reordered most frequently (display their names and product IDs)?</a></span><ul class=\"toc-item\"><li><span><a href=\"#Results\" data-toc-modified-id=\"Results-3.12.1\"><span class=\"toc-item-num\">3.12.1&nbsp;&nbsp;</span>Results</a></span></li></ul></li><li><span><a href=\"#[C3]-What-are-the-top-20-items-that-people-put-in-their-carts-first?\" data-toc-modified-id=\"[C3]-What-are-the-top-20-items-that-people-put-in-their-carts-first?-3.13\"><span class=\"toc-item-num\">3.13&nbsp;&nbsp;</span>[C3] What are the top 20 items that people put in their carts first?</a></span><ul class=\"toc-item\"><li><span><a href=\"#Results\" data-toc-modified-id=\"Results-3.13.1\"><span class=\"toc-item-num\">3.13.1&nbsp;&nbsp;</span>Results</a></span></li></ul></li></ul></li></ul></div>"
   ]
  },
  {
   "cell_type": "markdown",
   "id": "ae301f48",
   "metadata": {},
   "source": [
    "\n",
    "# INSTACART DATA EXPLORATORY DATA ANALYIS\n"
   ]
  },
  {
   "cell_type": "markdown",
   "id": "dfc17f25",
   "metadata": {},
   "source": [
    "This project analyzes data collected by Instacart, the grocery delivery platform. The purpose of this project is to   \n",
    "clean up the data, and use the cleaned data to report insights on shopping habits of Instacart customers. The data   \n",
    "was cleaned by removing duplicate vales, and filling in missing values, all while maintaining the integrity of the dataset.Analyses indicated the number of orders placed, dependent on variables such as time of the day, day of the week, and time since the customer last placed an order. The results demonstrate the distribution of the number of orders customers place,   \n",
    "the top 20 products, and the top 20 reordered products. "
   ]
  },
  {
   "cell_type": "markdown",
   "id": "6d35e600",
   "metadata": {},
   "source": [
    "## Loading the data "
   ]
  },
  {
   "cell_type": "code",
   "execution_count": 134,
   "id": "d669cc72",
   "metadata": {},
   "outputs": [],
   "source": [
    "import pandas as pd\n",
    "import numpy as np\n",
    "from matplotlib import pyplot as plt"
   ]
  },
  {
   "cell_type": "markdown",
   "id": "8ad913fa",
   "metadata": {},
   "source": [
    "### Loading the data from the csv files"
   ]
  },
  {
   "cell_type": "code",
   "execution_count": null,
   "id": "7bc92255",
   "metadata": {},
   "outputs": [],
   "source": [
    "# read data\n",
    "df_inst_orders = pd.read_csv('datasets\\orders.csv')\n",
    "df_prod = pd.read_csv('datasets/products.csv')\n",
    "df_aisles = pd.read_csv('datasets/aisles.csv')\n",
    "df_dept = pd.read_csv('datasets/departments.csv')\n",
    "df_order_prod = pd.read_csv('datasets/order_products__prior.csv')"
   ]
  },
  {
   "cell_type": "code",
   "execution_count": 140,
   "id": "34bcd814",
   "metadata": {
    "scrolled": false
   },
   "outputs": [
    {
     "data": {
      "text/html": [
       "<div>\n",
       "<style scoped>\n",
       "    .dataframe tbody tr th:only-of-type {\n",
       "        vertical-align: middle;\n",
       "    }\n",
       "\n",
       "    .dataframe tbody tr th {\n",
       "        vertical-align: top;\n",
       "    }\n",
       "\n",
       "    .dataframe thead th {\n",
       "        text-align: right;\n",
       "    }\n",
       "</style>\n",
       "<table border=\"1\" class=\"dataframe\">\n",
       "  <thead>\n",
       "    <tr style=\"text-align: right;\">\n",
       "      <th></th>\n",
       "      <th>order_id</th>\n",
       "      <th>user_id</th>\n",
       "      <th>order_number</th>\n",
       "      <th>order_dow</th>\n",
       "      <th>order_hour_of_day</th>\n",
       "      <th>days_since_prior_order</th>\n",
       "    </tr>\n",
       "  </thead>\n",
       "  <tbody>\n",
       "    <tr>\n",
       "      <th>0</th>\n",
       "      <td>1515936</td>\n",
       "      <td>183418</td>\n",
       "      <td>11</td>\n",
       "      <td>6</td>\n",
       "      <td>13</td>\n",
       "      <td>30.0</td>\n",
       "    </tr>\n",
       "    <tr>\n",
       "      <th>1</th>\n",
       "      <td>1690866</td>\n",
       "      <td>163593</td>\n",
       "      <td>5</td>\n",
       "      <td>5</td>\n",
       "      <td>12</td>\n",
       "      <td>9.0</td>\n",
       "    </tr>\n",
       "    <tr>\n",
       "      <th>2</th>\n",
       "      <td>1454967</td>\n",
       "      <td>39980</td>\n",
       "      <td>4</td>\n",
       "      <td>5</td>\n",
       "      <td>19</td>\n",
       "      <td>2.0</td>\n",
       "    </tr>\n",
       "    <tr>\n",
       "      <th>3</th>\n",
       "      <td>1768857</td>\n",
       "      <td>82516</td>\n",
       "      <td>56</td>\n",
       "      <td>0</td>\n",
       "      <td>20</td>\n",
       "      <td>10.0</td>\n",
       "    </tr>\n",
       "    <tr>\n",
       "      <th>4</th>\n",
       "      <td>3007858</td>\n",
       "      <td>196724</td>\n",
       "      <td>2</td>\n",
       "      <td>4</td>\n",
       "      <td>12</td>\n",
       "      <td>17.0</td>\n",
       "    </tr>\n",
       "    <tr>\n",
       "      <th>...</th>\n",
       "      <td>...</td>\n",
       "      <td>...</td>\n",
       "      <td>...</td>\n",
       "      <td>...</td>\n",
       "      <td>...</td>\n",
       "      <td>...</td>\n",
       "    </tr>\n",
       "    <tr>\n",
       "      <th>478962</th>\n",
       "      <td>3210681</td>\n",
       "      <td>5617</td>\n",
       "      <td>5</td>\n",
       "      <td>1</td>\n",
       "      <td>14</td>\n",
       "      <td>7.0</td>\n",
       "    </tr>\n",
       "    <tr>\n",
       "      <th>478963</th>\n",
       "      <td>3270802</td>\n",
       "      <td>112087</td>\n",
       "      <td>2</td>\n",
       "      <td>3</td>\n",
       "      <td>13</td>\n",
       "      <td>6.0</td>\n",
       "    </tr>\n",
       "    <tr>\n",
       "      <th>478964</th>\n",
       "      <td>885349</td>\n",
       "      <td>82944</td>\n",
       "      <td>16</td>\n",
       "      <td>2</td>\n",
       "      <td>11</td>\n",
       "      <td>6.0</td>\n",
       "    </tr>\n",
       "    <tr>\n",
       "      <th>478965</th>\n",
       "      <td>216274</td>\n",
       "      <td>4391</td>\n",
       "      <td>3</td>\n",
       "      <td>3</td>\n",
       "      <td>8</td>\n",
       "      <td>8.0</td>\n",
       "    </tr>\n",
       "    <tr>\n",
       "      <th>478966</th>\n",
       "      <td>2071924</td>\n",
       "      <td>1730</td>\n",
       "      <td>18</td>\n",
       "      <td>1</td>\n",
       "      <td>14</td>\n",
       "      <td>15.0</td>\n",
       "    </tr>\n",
       "  </tbody>\n",
       "</table>\n",
       "<p>478967 rows × 6 columns</p>\n",
       "</div>"
      ],
      "text/plain": [
       "        order_id  user_id  order_number  order_dow  order_hour_of_day  \\\n",
       "0        1515936   183418            11          6                 13   \n",
       "1        1690866   163593             5          5                 12   \n",
       "2        1454967    39980             4          5                 19   \n",
       "3        1768857    82516            56          0                 20   \n",
       "4        3007858   196724             2          4                 12   \n",
       "...          ...      ...           ...        ...                ...   \n",
       "478962   3210681     5617             5          1                 14   \n",
       "478963   3270802   112087             2          3                 13   \n",
       "478964    885349    82944            16          2                 11   \n",
       "478965    216274     4391             3          3                  8   \n",
       "478966   2071924     1730            18          1                 14   \n",
       "\n",
       "        days_since_prior_order  \n",
       "0                         30.0  \n",
       "1                          9.0  \n",
       "2                          2.0  \n",
       "3                         10.0  \n",
       "4                         17.0  \n",
       "...                        ...  \n",
       "478962                     7.0  \n",
       "478963                     6.0  \n",
       "478964                     6.0  \n",
       "478965                     8.0  \n",
       "478966                    15.0  \n",
       "\n",
       "[478967 rows x 6 columns]"
      ]
     },
     "metadata": {},
     "output_type": "display_data"
    },
    {
     "name": "stdout",
     "output_type": "stream",
     "text": [
      "\n"
     ]
    },
    {
     "data": {
      "text/html": [
       "<div>\n",
       "<style scoped>\n",
       "    .dataframe tbody tr th:only-of-type {\n",
       "        vertical-align: middle;\n",
       "    }\n",
       "\n",
       "    .dataframe tbody tr th {\n",
       "        vertical-align: top;\n",
       "    }\n",
       "\n",
       "    .dataframe thead th {\n",
       "        text-align: right;\n",
       "    }\n",
       "</style>\n",
       "<table border=\"1\" class=\"dataframe\">\n",
       "  <thead>\n",
       "    <tr style=\"text-align: right;\">\n",
       "      <th></th>\n",
       "      <th>product_id</th>\n",
       "      <th>product_name</th>\n",
       "      <th>aisle_id</th>\n",
       "      <th>department_id</th>\n",
       "    </tr>\n",
       "  </thead>\n",
       "  <tbody>\n",
       "    <tr>\n",
       "      <th>0</th>\n",
       "      <td>1</td>\n",
       "      <td>Chocolate Sandwich Cookies</td>\n",
       "      <td>61</td>\n",
       "      <td>19</td>\n",
       "    </tr>\n",
       "    <tr>\n",
       "      <th>1</th>\n",
       "      <td>2</td>\n",
       "      <td>All-Seasons Salt</td>\n",
       "      <td>104</td>\n",
       "      <td>13</td>\n",
       "    </tr>\n",
       "    <tr>\n",
       "      <th>2</th>\n",
       "      <td>3</td>\n",
       "      <td>Robust Golden Unsweetened Oolong Tea</td>\n",
       "      <td>94</td>\n",
       "      <td>7</td>\n",
       "    </tr>\n",
       "    <tr>\n",
       "      <th>3</th>\n",
       "      <td>4</td>\n",
       "      <td>Smart Ones Classic Favorites Mini Rigatoni Wit...</td>\n",
       "      <td>38</td>\n",
       "      <td>1</td>\n",
       "    </tr>\n",
       "    <tr>\n",
       "      <th>4</th>\n",
       "      <td>5</td>\n",
       "      <td>Green Chile Anytime Sauce</td>\n",
       "      <td>5</td>\n",
       "      <td>13</td>\n",
       "    </tr>\n",
       "    <tr>\n",
       "      <th>...</th>\n",
       "      <td>...</td>\n",
       "      <td>...</td>\n",
       "      <td>...</td>\n",
       "      <td>...</td>\n",
       "    </tr>\n",
       "    <tr>\n",
       "      <th>49689</th>\n",
       "      <td>49690</td>\n",
       "      <td>HIGH PERFORMANCE ENERGY DRINK</td>\n",
       "      <td>64</td>\n",
       "      <td>7</td>\n",
       "    </tr>\n",
       "    <tr>\n",
       "      <th>49690</th>\n",
       "      <td>49691</td>\n",
       "      <td>ORIGINAL PANCAKE &amp; WAFFLE MIX</td>\n",
       "      <td>130</td>\n",
       "      <td>14</td>\n",
       "    </tr>\n",
       "    <tr>\n",
       "      <th>49691</th>\n",
       "      <td>49692</td>\n",
       "      <td>ORGANIC INSTANT OATMEAL LIGHT MAPLE BROWN SUGAR</td>\n",
       "      <td>130</td>\n",
       "      <td>14</td>\n",
       "    </tr>\n",
       "    <tr>\n",
       "      <th>49692</th>\n",
       "      <td>49693</td>\n",
       "      <td>SPRING WATER BODY WASH</td>\n",
       "      <td>127</td>\n",
       "      <td>11</td>\n",
       "    </tr>\n",
       "    <tr>\n",
       "      <th>49693</th>\n",
       "      <td>49694</td>\n",
       "      <td>BURRITO- STEAK &amp; CHEESE</td>\n",
       "      <td>38</td>\n",
       "      <td>1</td>\n",
       "    </tr>\n",
       "  </tbody>\n",
       "</table>\n",
       "<p>49694 rows × 4 columns</p>\n",
       "</div>"
      ],
      "text/plain": [
       "       product_id                                       product_name  \\\n",
       "0               1                         Chocolate Sandwich Cookies   \n",
       "1               2                                   All-Seasons Salt   \n",
       "2               3               Robust Golden Unsweetened Oolong Tea   \n",
       "3               4  Smart Ones Classic Favorites Mini Rigatoni Wit...   \n",
       "4               5                          Green Chile Anytime Sauce   \n",
       "...           ...                                                ...   \n",
       "49689       49690                      HIGH PERFORMANCE ENERGY DRINK   \n",
       "49690       49691                      ORIGINAL PANCAKE & WAFFLE MIX   \n",
       "49691       49692    ORGANIC INSTANT OATMEAL LIGHT MAPLE BROWN SUGAR   \n",
       "49692       49693                             SPRING WATER BODY WASH   \n",
       "49693       49694                            BURRITO- STEAK & CHEESE   \n",
       "\n",
       "       aisle_id  department_id  \n",
       "0            61             19  \n",
       "1           104             13  \n",
       "2            94              7  \n",
       "3            38              1  \n",
       "4             5             13  \n",
       "...         ...            ...  \n",
       "49689        64              7  \n",
       "49690       130             14  \n",
       "49691       130             14  \n",
       "49692       127             11  \n",
       "49693        38              1  \n",
       "\n",
       "[49694 rows x 4 columns]"
      ]
     },
     "metadata": {},
     "output_type": "display_data"
    },
    {
     "name": "stdout",
     "output_type": "stream",
     "text": [
      "\n"
     ]
    },
    {
     "data": {
      "text/html": [
       "<div>\n",
       "<style scoped>\n",
       "    .dataframe tbody tr th:only-of-type {\n",
       "        vertical-align: middle;\n",
       "    }\n",
       "\n",
       "    .dataframe tbody tr th {\n",
       "        vertical-align: top;\n",
       "    }\n",
       "\n",
       "    .dataframe thead th {\n",
       "        text-align: right;\n",
       "    }\n",
       "</style>\n",
       "<table border=\"1\" class=\"dataframe\">\n",
       "  <thead>\n",
       "    <tr style=\"text-align: right;\">\n",
       "      <th></th>\n",
       "      <th>aisle_id</th>\n",
       "      <th>aisle</th>\n",
       "    </tr>\n",
       "  </thead>\n",
       "  <tbody>\n",
       "    <tr>\n",
       "      <th>0</th>\n",
       "      <td>1</td>\n",
       "      <td>prepared soups salads</td>\n",
       "    </tr>\n",
       "    <tr>\n",
       "      <th>1</th>\n",
       "      <td>2</td>\n",
       "      <td>specialty cheeses</td>\n",
       "    </tr>\n",
       "    <tr>\n",
       "      <th>2</th>\n",
       "      <td>3</td>\n",
       "      <td>energy granola bars</td>\n",
       "    </tr>\n",
       "    <tr>\n",
       "      <th>3</th>\n",
       "      <td>4</td>\n",
       "      <td>instant foods</td>\n",
       "    </tr>\n",
       "    <tr>\n",
       "      <th>4</th>\n",
       "      <td>5</td>\n",
       "      <td>marinades meat preparation</td>\n",
       "    </tr>\n",
       "    <tr>\n",
       "      <th>...</th>\n",
       "      <td>...</td>\n",
       "      <td>...</td>\n",
       "    </tr>\n",
       "    <tr>\n",
       "      <th>129</th>\n",
       "      <td>130</td>\n",
       "      <td>hot cereal pancake mixes</td>\n",
       "    </tr>\n",
       "    <tr>\n",
       "      <th>130</th>\n",
       "      <td>131</td>\n",
       "      <td>dry pasta</td>\n",
       "    </tr>\n",
       "    <tr>\n",
       "      <th>131</th>\n",
       "      <td>132</td>\n",
       "      <td>beauty</td>\n",
       "    </tr>\n",
       "    <tr>\n",
       "      <th>132</th>\n",
       "      <td>133</td>\n",
       "      <td>muscles joints pain relief</td>\n",
       "    </tr>\n",
       "    <tr>\n",
       "      <th>133</th>\n",
       "      <td>134</td>\n",
       "      <td>specialty wines champagnes</td>\n",
       "    </tr>\n",
       "  </tbody>\n",
       "</table>\n",
       "<p>134 rows × 2 columns</p>\n",
       "</div>"
      ],
      "text/plain": [
       "     aisle_id                       aisle\n",
       "0           1       prepared soups salads\n",
       "1           2           specialty cheeses\n",
       "2           3         energy granola bars\n",
       "3           4               instant foods\n",
       "4           5  marinades meat preparation\n",
       "..        ...                         ...\n",
       "129       130    hot cereal pancake mixes\n",
       "130       131                   dry pasta\n",
       "131       132                      beauty\n",
       "132       133  muscles joints pain relief\n",
       "133       134  specialty wines champagnes\n",
       "\n",
       "[134 rows x 2 columns]"
      ]
     },
     "metadata": {},
     "output_type": "display_data"
    },
    {
     "name": "stdout",
     "output_type": "stream",
     "text": [
      "\n"
     ]
    },
    {
     "data": {
      "text/html": [
       "<div>\n",
       "<style scoped>\n",
       "    .dataframe tbody tr th:only-of-type {\n",
       "        vertical-align: middle;\n",
       "    }\n",
       "\n",
       "    .dataframe tbody tr th {\n",
       "        vertical-align: top;\n",
       "    }\n",
       "\n",
       "    .dataframe thead th {\n",
       "        text-align: right;\n",
       "    }\n",
       "</style>\n",
       "<table border=\"1\" class=\"dataframe\">\n",
       "  <thead>\n",
       "    <tr style=\"text-align: right;\">\n",
       "      <th></th>\n",
       "      <th>department_id</th>\n",
       "      <th>department</th>\n",
       "    </tr>\n",
       "  </thead>\n",
       "  <tbody>\n",
       "    <tr>\n",
       "      <th>0</th>\n",
       "      <td>1</td>\n",
       "      <td>frozen</td>\n",
       "    </tr>\n",
       "    <tr>\n",
       "      <th>1</th>\n",
       "      <td>2</td>\n",
       "      <td>other</td>\n",
       "    </tr>\n",
       "    <tr>\n",
       "      <th>2</th>\n",
       "      <td>3</td>\n",
       "      <td>bakery</td>\n",
       "    </tr>\n",
       "    <tr>\n",
       "      <th>3</th>\n",
       "      <td>4</td>\n",
       "      <td>produce</td>\n",
       "    </tr>\n",
       "    <tr>\n",
       "      <th>4</th>\n",
       "      <td>5</td>\n",
       "      <td>alcohol</td>\n",
       "    </tr>\n",
       "    <tr>\n",
       "      <th>5</th>\n",
       "      <td>6</td>\n",
       "      <td>international</td>\n",
       "    </tr>\n",
       "    <tr>\n",
       "      <th>6</th>\n",
       "      <td>7</td>\n",
       "      <td>beverages</td>\n",
       "    </tr>\n",
       "    <tr>\n",
       "      <th>7</th>\n",
       "      <td>8</td>\n",
       "      <td>pets</td>\n",
       "    </tr>\n",
       "    <tr>\n",
       "      <th>8</th>\n",
       "      <td>9</td>\n",
       "      <td>dry goods pasta</td>\n",
       "    </tr>\n",
       "    <tr>\n",
       "      <th>9</th>\n",
       "      <td>10</td>\n",
       "      <td>bulk</td>\n",
       "    </tr>\n",
       "    <tr>\n",
       "      <th>10</th>\n",
       "      <td>11</td>\n",
       "      <td>personal care</td>\n",
       "    </tr>\n",
       "    <tr>\n",
       "      <th>11</th>\n",
       "      <td>12</td>\n",
       "      <td>meat seafood</td>\n",
       "    </tr>\n",
       "    <tr>\n",
       "      <th>12</th>\n",
       "      <td>13</td>\n",
       "      <td>pantry</td>\n",
       "    </tr>\n",
       "    <tr>\n",
       "      <th>13</th>\n",
       "      <td>14</td>\n",
       "      <td>breakfast</td>\n",
       "    </tr>\n",
       "    <tr>\n",
       "      <th>14</th>\n",
       "      <td>15</td>\n",
       "      <td>canned goods</td>\n",
       "    </tr>\n",
       "    <tr>\n",
       "      <th>15</th>\n",
       "      <td>16</td>\n",
       "      <td>dairy eggs</td>\n",
       "    </tr>\n",
       "    <tr>\n",
       "      <th>16</th>\n",
       "      <td>17</td>\n",
       "      <td>household</td>\n",
       "    </tr>\n",
       "    <tr>\n",
       "      <th>17</th>\n",
       "      <td>18</td>\n",
       "      <td>babies</td>\n",
       "    </tr>\n",
       "    <tr>\n",
       "      <th>18</th>\n",
       "      <td>19</td>\n",
       "      <td>snacks</td>\n",
       "    </tr>\n",
       "    <tr>\n",
       "      <th>19</th>\n",
       "      <td>20</td>\n",
       "      <td>deli</td>\n",
       "    </tr>\n",
       "    <tr>\n",
       "      <th>20</th>\n",
       "      <td>21</td>\n",
       "      <td>missing</td>\n",
       "    </tr>\n",
       "  </tbody>\n",
       "</table>\n",
       "</div>"
      ],
      "text/plain": [
       "    department_id       department\n",
       "0               1           frozen\n",
       "1               2            other\n",
       "2               3           bakery\n",
       "3               4          produce\n",
       "4               5          alcohol\n",
       "5               6    international\n",
       "6               7        beverages\n",
       "7               8             pets\n",
       "8               9  dry goods pasta\n",
       "9              10             bulk\n",
       "10             11    personal care\n",
       "11             12     meat seafood\n",
       "12             13           pantry\n",
       "13             14        breakfast\n",
       "14             15     canned goods\n",
       "15             16       dairy eggs\n",
       "16             17        household\n",
       "17             18           babies\n",
       "18             19           snacks\n",
       "19             20             deli\n",
       "20             21          missing"
      ]
     },
     "metadata": {},
     "output_type": "display_data"
    },
    {
     "name": "stdout",
     "output_type": "stream",
     "text": [
      "\n"
     ]
    },
    {
     "data": {
      "text/html": [
       "<div>\n",
       "<style scoped>\n",
       "    .dataframe tbody tr th:only-of-type {\n",
       "        vertical-align: middle;\n",
       "    }\n",
       "\n",
       "    .dataframe tbody tr th {\n",
       "        vertical-align: top;\n",
       "    }\n",
       "\n",
       "    .dataframe thead th {\n",
       "        text-align: right;\n",
       "    }\n",
       "</style>\n",
       "<table border=\"1\" class=\"dataframe\">\n",
       "  <thead>\n",
       "    <tr style=\"text-align: right;\">\n",
       "      <th></th>\n",
       "      <th>order_id</th>\n",
       "      <th>product_id</th>\n",
       "      <th>add_to_cart_order</th>\n",
       "      <th>reordered</th>\n",
       "    </tr>\n",
       "  </thead>\n",
       "  <tbody>\n",
       "    <tr>\n",
       "      <th>0</th>\n",
       "      <td>2141543</td>\n",
       "      <td>11440</td>\n",
       "      <td>17.0</td>\n",
       "      <td>0</td>\n",
       "    </tr>\n",
       "    <tr>\n",
       "      <th>1</th>\n",
       "      <td>567889</td>\n",
       "      <td>1560</td>\n",
       "      <td>1.0</td>\n",
       "      <td>1</td>\n",
       "    </tr>\n",
       "    <tr>\n",
       "      <th>2</th>\n",
       "      <td>2261212</td>\n",
       "      <td>26683</td>\n",
       "      <td>1.0</td>\n",
       "      <td>1</td>\n",
       "    </tr>\n",
       "    <tr>\n",
       "      <th>3</th>\n",
       "      <td>491251</td>\n",
       "      <td>8670</td>\n",
       "      <td>35.0</td>\n",
       "      <td>1</td>\n",
       "    </tr>\n",
       "    <tr>\n",
       "      <th>4</th>\n",
       "      <td>2571142</td>\n",
       "      <td>1940</td>\n",
       "      <td>5.0</td>\n",
       "      <td>1</td>\n",
       "    </tr>\n",
       "    <tr>\n",
       "      <th>...</th>\n",
       "      <td>...</td>\n",
       "      <td>...</td>\n",
       "      <td>...</td>\n",
       "      <td>...</td>\n",
       "    </tr>\n",
       "    <tr>\n",
       "      <th>4545002</th>\n",
       "      <td>577211</td>\n",
       "      <td>15290</td>\n",
       "      <td>12.0</td>\n",
       "      <td>1</td>\n",
       "    </tr>\n",
       "    <tr>\n",
       "      <th>4545003</th>\n",
       "      <td>1219554</td>\n",
       "      <td>21914</td>\n",
       "      <td>9.0</td>\n",
       "      <td>0</td>\n",
       "    </tr>\n",
       "    <tr>\n",
       "      <th>4545004</th>\n",
       "      <td>692640</td>\n",
       "      <td>47766</td>\n",
       "      <td>4.0</td>\n",
       "      <td>1</td>\n",
       "    </tr>\n",
       "    <tr>\n",
       "      <th>4545005</th>\n",
       "      <td>319435</td>\n",
       "      <td>691</td>\n",
       "      <td>8.0</td>\n",
       "      <td>1</td>\n",
       "    </tr>\n",
       "    <tr>\n",
       "      <th>4545006</th>\n",
       "      <td>1398151</td>\n",
       "      <td>28733</td>\n",
       "      <td>9.0</td>\n",
       "      <td>0</td>\n",
       "    </tr>\n",
       "  </tbody>\n",
       "</table>\n",
       "<p>4545007 rows × 4 columns</p>\n",
       "</div>"
      ],
      "text/plain": [
       "         order_id  product_id  add_to_cart_order  reordered\n",
       "0         2141543       11440               17.0          0\n",
       "1          567889        1560                1.0          1\n",
       "2         2261212       26683                1.0          1\n",
       "3          491251        8670               35.0          1\n",
       "4         2571142        1940                5.0          1\n",
       "...           ...         ...                ...        ...\n",
       "4545002    577211       15290               12.0          1\n",
       "4545003   1219554       21914                9.0          0\n",
       "4545004    692640       47766                4.0          1\n",
       "4545005    319435         691                8.0          1\n",
       "4545006   1398151       28733                9.0          0\n",
       "\n",
       "[4545007 rows x 4 columns]"
      ]
     },
     "metadata": {},
     "output_type": "display_data"
    }
   ],
   "source": [
    "# idea of what the datasets look like\n",
    "display(df_inst_orders)\n",
    "print()\n",
    "display(df_prod)\n",
    "print()\n",
    "display(df_aisles)\n",
    "print()\n",
    "display(df_dept)\n",
    "print()\n",
    "display(df_order_prod)"
   ]
  },
  {
   "cell_type": "code",
   "execution_count": 141,
   "id": "f91ebdb6",
   "metadata": {},
   "outputs": [
    {
     "name": "stdout",
     "output_type": "stream",
     "text": [
      "inst orders\n",
      "<class 'pandas.core.frame.DataFrame'>\n",
      "RangeIndex: 478967 entries, 0 to 478966\n",
      "Data columns (total 6 columns):\n",
      " #   Column                  Non-Null Count   Dtype  \n",
      "---  ------                  --------------   -----  \n",
      " 0   order_id                478967 non-null  int64  \n",
      " 1   user_id                 478967 non-null  int64  \n",
      " 2   order_number            478967 non-null  int64  \n",
      " 3   order_dow               478967 non-null  int64  \n",
      " 4   order_hour_of_day       478967 non-null  int64  \n",
      " 5   days_since_prior_order  450148 non-null  float64\n",
      "dtypes: float64(1), int64(5)\n",
      "memory usage: 21.9 MB\n",
      "\n",
      "prod\n",
      "<class 'pandas.core.frame.DataFrame'>\n",
      "RangeIndex: 49694 entries, 0 to 49693\n",
      "Data columns (total 4 columns):\n",
      " #   Column         Non-Null Count  Dtype \n",
      "---  ------         --------------  ----- \n",
      " 0   product_id     49694 non-null  int64 \n",
      " 1   product_name   48436 non-null  object\n",
      " 2   aisle_id       49694 non-null  int64 \n",
      " 3   department_id  49694 non-null  int64 \n",
      "dtypes: int64(3), object(1)\n",
      "memory usage: 1.5+ MB\n",
      "\n",
      "aisles\n",
      "<class 'pandas.core.frame.DataFrame'>\n",
      "RangeIndex: 134 entries, 0 to 133\n",
      "Data columns (total 2 columns):\n",
      " #   Column    Non-Null Count  Dtype \n",
      "---  ------    --------------  ----- \n",
      " 0   aisle_id  134 non-null    int64 \n",
      " 1   aisle     134 non-null    object\n",
      "dtypes: int64(1), object(1)\n",
      "memory usage: 2.2+ KB\n",
      "\n",
      "dept\n",
      "<class 'pandas.core.frame.DataFrame'>\n",
      "RangeIndex: 21 entries, 0 to 20\n",
      "Data columns (total 2 columns):\n",
      " #   Column         Non-Null Count  Dtype \n",
      "---  ------         --------------  ----- \n",
      " 0   department_id  21 non-null     int64 \n",
      " 1   department     21 non-null     object\n",
      "dtypes: int64(1), object(1)\n",
      "memory usage: 464.0+ bytes\n",
      "\n",
      "order prod\n",
      "<class 'pandas.core.frame.DataFrame'>\n",
      "RangeIndex: 4545007 entries, 0 to 4545006\n",
      "Data columns (total 4 columns):\n",
      " #   Column             Non-Null Count    Dtype  \n",
      "---  ------             --------------    -----  \n",
      " 0   order_id           4545007 non-null  int64  \n",
      " 1   product_id         4545007 non-null  int64  \n",
      " 2   add_to_cart_order  4544171 non-null  float64\n",
      " 3   reordered          4545007 non-null  int64  \n",
      "dtypes: float64(1), int64(3)\n",
      "memory usage: 138.7 MB\n"
     ]
    }
   ],
   "source": [
    "# info on columns\n",
    "print('inst orders')\n",
    "df_inst_orders.info()\n",
    "print()\n",
    "print('prod')\n",
    "df_prod.info()\n",
    "print()\n",
    "print('aisles')\n",
    "df_aisles.info()\n",
    "print()\n",
    "print('dept')\n",
    "df_dept.info()\n",
    "print()\n",
    "print('order prod')\n",
    "df_order_prod.info(show_counts=True)"
   ]
  },
  {
   "cell_type": "markdown",
   "id": "f077d1cd",
   "metadata": {},
   "source": [
    "### Conclusions on data"
   ]
  },
  {
   "cell_type": "markdown",
   "id": "5d865273",
   "metadata": {},
   "source": [
    "We have a total of 5 datasets from Instacart. The Instacart orders dataset is large and fairly clean, with missing values only in the days since prior order column. This data has close to half a million entries. The second dataset includes the products on the platform. with approximately 50,000 entries. This dataset is fairly clean with some missing product names. The aisles dataset is small with 134 entries, and no missing values. The department dataset contains 21 values, with no missing values. The last dataset is order products. Some values are missing from the add to cart order column. Missing values from these datasets should be assessed, to determine whether the missing data should be removed, or kept in place. "
   ]
  },
  {
   "cell_type": "markdown",
   "id": "f327e0c4",
   "metadata": {},
   "source": [
    "## Find and remove duplicate values "
   ]
  },
  {
   "cell_type": "markdown",
   "id": "3d3ebdad",
   "metadata": {},
   "source": [
    "### `orders` data frame"
   ]
  },
  {
   "cell_type": "code",
   "execution_count": 142,
   "id": "4ed92a70",
   "metadata": {
    "scrolled": false
   },
   "outputs": [
    {
     "data": {
      "text/html": [
       "<div>\n",
       "<style scoped>\n",
       "    .dataframe tbody tr th:only-of-type {\n",
       "        vertical-align: middle;\n",
       "    }\n",
       "\n",
       "    .dataframe tbody tr th {\n",
       "        vertical-align: top;\n",
       "    }\n",
       "\n",
       "    .dataframe thead th {\n",
       "        text-align: right;\n",
       "    }\n",
       "</style>\n",
       "<table border=\"1\" class=\"dataframe\">\n",
       "  <thead>\n",
       "    <tr style=\"text-align: right;\">\n",
       "      <th></th>\n",
       "      <th>order_id</th>\n",
       "      <th>user_id</th>\n",
       "      <th>order_number</th>\n",
       "      <th>order_dow</th>\n",
       "      <th>order_hour_of_day</th>\n",
       "      <th>days_since_prior_order</th>\n",
       "    </tr>\n",
       "  </thead>\n",
       "  <tbody>\n",
       "    <tr>\n",
       "      <th>145574</th>\n",
       "      <td>794638</td>\n",
       "      <td>50898</td>\n",
       "      <td>24</td>\n",
       "      <td>3</td>\n",
       "      <td>2</td>\n",
       "      <td>2.0</td>\n",
       "    </tr>\n",
       "    <tr>\n",
       "      <th>223105</th>\n",
       "      <td>2160484</td>\n",
       "      <td>107525</td>\n",
       "      <td>16</td>\n",
       "      <td>3</td>\n",
       "      <td>2</td>\n",
       "      <td>30.0</td>\n",
       "    </tr>\n",
       "    <tr>\n",
       "      <th>230807</th>\n",
       "      <td>1918001</td>\n",
       "      <td>188546</td>\n",
       "      <td>14</td>\n",
       "      <td>3</td>\n",
       "      <td>2</td>\n",
       "      <td>16.0</td>\n",
       "    </tr>\n",
       "    <tr>\n",
       "      <th>266232</th>\n",
       "      <td>1782114</td>\n",
       "      <td>106752</td>\n",
       "      <td>1</td>\n",
       "      <td>3</td>\n",
       "      <td>2</td>\n",
       "      <td>NaN</td>\n",
       "    </tr>\n",
       "    <tr>\n",
       "      <th>273805</th>\n",
       "      <td>1112182</td>\n",
       "      <td>202304</td>\n",
       "      <td>84</td>\n",
       "      <td>3</td>\n",
       "      <td>2</td>\n",
       "      <td>6.0</td>\n",
       "    </tr>\n",
       "    <tr>\n",
       "      <th>284038</th>\n",
       "      <td>2845099</td>\n",
       "      <td>31189</td>\n",
       "      <td>11</td>\n",
       "      <td>3</td>\n",
       "      <td>2</td>\n",
       "      <td>7.0</td>\n",
       "    </tr>\n",
       "    <tr>\n",
       "      <th>311713</th>\n",
       "      <td>1021560</td>\n",
       "      <td>53767</td>\n",
       "      <td>3</td>\n",
       "      <td>3</td>\n",
       "      <td>2</td>\n",
       "      <td>9.0</td>\n",
       "    </tr>\n",
       "    <tr>\n",
       "      <th>321100</th>\n",
       "      <td>408114</td>\n",
       "      <td>68324</td>\n",
       "      <td>4</td>\n",
       "      <td>3</td>\n",
       "      <td>2</td>\n",
       "      <td>18.0</td>\n",
       "    </tr>\n",
       "    <tr>\n",
       "      <th>323900</th>\n",
       "      <td>1919531</td>\n",
       "      <td>191501</td>\n",
       "      <td>32</td>\n",
       "      <td>3</td>\n",
       "      <td>2</td>\n",
       "      <td>7.0</td>\n",
       "    </tr>\n",
       "    <tr>\n",
       "      <th>345917</th>\n",
       "      <td>2232988</td>\n",
       "      <td>82565</td>\n",
       "      <td>1</td>\n",
       "      <td>3</td>\n",
       "      <td>2</td>\n",
       "      <td>NaN</td>\n",
       "    </tr>\n",
       "    <tr>\n",
       "      <th>371905</th>\n",
       "      <td>391768</td>\n",
       "      <td>57671</td>\n",
       "      <td>19</td>\n",
       "      <td>3</td>\n",
       "      <td>2</td>\n",
       "      <td>10.0</td>\n",
       "    </tr>\n",
       "    <tr>\n",
       "      <th>394347</th>\n",
       "      <td>467134</td>\n",
       "      <td>63189</td>\n",
       "      <td>21</td>\n",
       "      <td>3</td>\n",
       "      <td>2</td>\n",
       "      <td>2.0</td>\n",
       "    </tr>\n",
       "    <tr>\n",
       "      <th>411408</th>\n",
       "      <td>1286742</td>\n",
       "      <td>183220</td>\n",
       "      <td>48</td>\n",
       "      <td>3</td>\n",
       "      <td>2</td>\n",
       "      <td>4.0</td>\n",
       "    </tr>\n",
       "    <tr>\n",
       "      <th>415163</th>\n",
       "      <td>2282673</td>\n",
       "      <td>86751</td>\n",
       "      <td>49</td>\n",
       "      <td>3</td>\n",
       "      <td>2</td>\n",
       "      <td>2.0</td>\n",
       "    </tr>\n",
       "    <tr>\n",
       "      <th>441599</th>\n",
       "      <td>2125197</td>\n",
       "      <td>14050</td>\n",
       "      <td>48</td>\n",
       "      <td>3</td>\n",
       "      <td>2</td>\n",
       "      <td>3.0</td>\n",
       "    </tr>\n",
       "  </tbody>\n",
       "</table>\n",
       "</div>"
      ],
      "text/plain": [
       "        order_id  user_id  order_number  order_dow  order_hour_of_day  \\\n",
       "145574    794638    50898            24          3                  2   \n",
       "223105   2160484   107525            16          3                  2   \n",
       "230807   1918001   188546            14          3                  2   \n",
       "266232   1782114   106752             1          3                  2   \n",
       "273805   1112182   202304            84          3                  2   \n",
       "284038   2845099    31189            11          3                  2   \n",
       "311713   1021560    53767             3          3                  2   \n",
       "321100    408114    68324             4          3                  2   \n",
       "323900   1919531   191501            32          3                  2   \n",
       "345917   2232988    82565             1          3                  2   \n",
       "371905    391768    57671            19          3                  2   \n",
       "394347    467134    63189            21          3                  2   \n",
       "411408   1286742   183220            48          3                  2   \n",
       "415163   2282673    86751            49          3                  2   \n",
       "441599   2125197    14050            48          3                  2   \n",
       "\n",
       "        days_since_prior_order  \n",
       "145574                     2.0  \n",
       "223105                    30.0  \n",
       "230807                    16.0  \n",
       "266232                     NaN  \n",
       "273805                     6.0  \n",
       "284038                     7.0  \n",
       "311713                     9.0  \n",
       "321100                    18.0  \n",
       "323900                     7.0  \n",
       "345917                     NaN  \n",
       "371905                    10.0  \n",
       "394347                     2.0  \n",
       "411408                     4.0  \n",
       "415163                     2.0  \n",
       "441599                     3.0  "
      ]
     },
     "execution_count": 142,
     "metadata": {},
     "output_type": "execute_result"
    }
   ],
   "source": [
    "# Check for duplicated orders\n",
    "df_inst_orders[df_inst_orders.duplicated(subset='order_id')]"
   ]
  },
  {
   "cell_type": "code",
   "execution_count": 143,
   "id": "98009081",
   "metadata": {
    "scrolled": false
   },
   "outputs": [
    {
     "data": {
      "text/plain": [
       "False    478952\n",
       "True         15\n",
       "Name: order_id, dtype: int64"
      ]
     },
     "execution_count": 143,
     "metadata": {},
     "output_type": "execute_result"
    }
   ],
   "source": [
    "# check the number of duplicates\n",
    "df_inst_orders['order_id'].duplicated().value_counts()"
   ]
  },
  {
   "cell_type": "markdown",
   "id": "9519f0dc",
   "metadata": {},
   "source": [
    "We confirm that there are a total of 15 duplicated orders in our dataset that we need to address"
   ]
  },
  {
   "cell_type": "code",
   "execution_count": 144,
   "id": "7b68e3cc",
   "metadata": {},
   "outputs": [
    {
     "data": {
      "text/plain": [
       "2125197    2\n",
       "1782114    2\n",
       "1286742    2\n",
       "391768     2\n",
       "1021560    2\n",
       "2232988    2\n",
       "408114     2\n",
       "2282673    2\n",
       "1919531    2\n",
       "2160484    2\n",
       "1918001    2\n",
       "794638     2\n",
       "1112182    2\n",
       "467134     2\n",
       "2845099    2\n",
       "2357032    1\n",
       "Name: order_id, dtype: int64"
      ]
     },
     "execution_count": 144,
     "metadata": {},
     "output_type": "execute_result"
    }
   ],
   "source": [
    "# checking orders with highest frequency, to 16 values to check wheter 15 orders are duplicated\n",
    "df_inst_orders['order_id'].value_counts().head(16)"
   ]
  },
  {
   "cell_type": "code",
   "execution_count": 145,
   "id": "b55ed1e2",
   "metadata": {
    "scrolled": true
   },
   "outputs": [
    {
     "name": "stdout",
     "output_type": "stream",
     "text": [
      "7\n"
     ]
    }
   ],
   "source": [
    "# number of days in days of week column\n",
    "print(df_inst_orders['order_dow'].nunique())"
   ]
  },
  {
   "cell_type": "code",
   "execution_count": 148,
   "id": "ad806360",
   "metadata": {
    "scrolled": false
   },
   "outputs": [
    {
     "name": "stdout",
     "output_type": "stream",
     "text": [
      "order_id    114\n",
      "dtype: int64\n"
     ]
    }
   ],
   "source": [
    "# Check for all orders placed Wednesday at 2:00 AM\n",
    "print(df_inst_orders.query(\"order_dow==4 and order_hour_of_day==2\")[['order_id']].count())"
   ]
  },
  {
   "cell_type": "markdown",
   "id": "a52aecce",
   "metadata": {},
   "source": [
    "114 orders placed on Wednesday @ 2:00 AM "
   ]
  },
  {
   "cell_type": "code",
   "execution_count": 151,
   "id": "5ef89ad4",
   "metadata": {},
   "outputs": [
    {
     "name": "stdout",
     "output_type": "stream",
     "text": [
      "order_hour_of_day\n",
      "0      3180\n",
      "1      1763\n",
      "2      1004\n",
      "3       770\n",
      "4       765\n",
      "5      1371\n",
      "6      4215\n",
      "7     13043\n",
      "8     25024\n",
      "9     35896\n",
      "10    40578\n",
      "11    40032\n",
      "12    38034\n",
      "13    39007\n",
      "14    39631\n",
      "15    39789\n",
      "16    38112\n",
      "17    31930\n",
      "18    25510\n",
      "19    19547\n",
      "20    14624\n",
      "21    11019\n",
      "22     8512\n",
      "23     5611\n",
      "Name: order_dow, dtype: int64\n"
     ]
    }
   ],
   "source": [
    "# orders per jour of day\n",
    "df_grou = df_inst_orders.groupby('order_hour_of_day')['order_dow'].count()\n",
    "print(df_grou)"
   ]
  },
  {
   "cell_type": "code",
   "execution_count": 152,
   "id": "44234e2a",
   "metadata": {},
   "outputs": [
    {
     "name": "stdout",
     "output_type": "stream",
     "text": [
      "0         1515936.0\n",
      "1         1690866.0\n",
      "2         1454967.0\n",
      "3         1768857.0\n",
      "4         3007858.0\n",
      "            ...    \n",
      "478962    3210681.0\n",
      "478963    3270802.0\n",
      "478964     885349.0\n",
      "478965     216274.0\n",
      "478966    2071924.0\n",
      "Name: order_id, Length: 478967, dtype: float64\n"
     ]
    }
   ],
   "source": [
    "# Remove duplicate orders\n",
    "df_inst_orders['order_id'] = df_inst_orders['order_id'].drop_duplicates()\n",
    "print(df_inst_orders['order_id'])"
   ]
  },
  {
   "cell_type": "code",
   "execution_count": 153,
   "id": "22bd11c3",
   "metadata": {},
   "outputs": [
    {
     "data": {
      "text/plain": [
       "0"
      ]
     },
     "execution_count": 153,
     "metadata": {},
     "output_type": "execute_result"
    }
   ],
   "source": [
    "# Double check for duplicate rows\n",
    "df_inst_orders.duplicated().sum()"
   ]
  },
  {
   "cell_type": "code",
   "execution_count": 154,
   "id": "2560011b",
   "metadata": {
    "scrolled": false
   },
   "outputs": [
    {
     "data": {
      "text/plain": [
       "220638.0     1\n",
       "827753.0     1\n",
       "516243.0     1\n",
       "2728009.0    1\n",
       "391704.0     1\n",
       "211077.0     1\n",
       "424589.0     1\n",
       "21984.0      1\n",
       "1509114.0    1\n",
       "467182.0     1\n",
       "3201275.0    1\n",
       "569125.0     1\n",
       "2032571.0    1\n",
       "652972.0     1\n",
       "1443182.0    1\n",
       "3202147.0    1\n",
       "Name: order_id, dtype: int64"
      ]
     },
     "execution_count": 154,
     "metadata": {},
     "output_type": "execute_result"
    }
   ],
   "source": [
    "# Double check for duplicate order IDs only\n",
    "df_inst_orders['order_id'].value_counts().head(16)"
   ]
  },
  {
   "cell_type": "code",
   "execution_count": 155,
   "id": "a5e19c7d",
   "metadata": {},
   "outputs": [
    {
     "data": {
      "text/plain": [
       "478952"
      ]
     },
     "execution_count": 155,
     "metadata": {},
     "output_type": "execute_result"
    }
   ],
   "source": [
    "# number of unique order id's\n",
    "df_inst_orders['order_id'].nunique()"
   ]
  },
  {
   "cell_type": "markdown",
   "id": "e9635d9a",
   "metadata": {},
   "source": [
    "\n",
    "\n",
    "#### Conclusions on orders dataframe\n"
   ]
  },
  {
   "cell_type": "markdown",
   "id": "ad2b2163",
   "metadata": {},
   "source": [
    "The orders dataframe had a few duplicates that we needed to delete, as doing so would improve the results of our findings, without negatively affecting the data. We confirmed 15 duplicated orders, and we deleted the duplicates. After, we confirmed the data no longer contained duplicates. It was noted that the days of the week column had 7 values, and the order hour of the day had 24 values. We were also able to confirm orders, based on the hour of the day, and the day of the week. "
   ]
  },
  {
   "cell_type": "markdown",
   "id": "367411a8",
   "metadata": {},
   "source": [
    "### `products` data frame"
   ]
  },
  {
   "cell_type": "code",
   "execution_count": 156,
   "id": "ab6f1b05",
   "metadata": {},
   "outputs": [
    {
     "data": {
      "text/html": [
       "<div>\n",
       "<style scoped>\n",
       "    .dataframe tbody tr th:only-of-type {\n",
       "        vertical-align: middle;\n",
       "    }\n",
       "\n",
       "    .dataframe tbody tr th {\n",
       "        vertical-align: top;\n",
       "    }\n",
       "\n",
       "    .dataframe thead th {\n",
       "        text-align: right;\n",
       "    }\n",
       "</style>\n",
       "<table border=\"1\" class=\"dataframe\">\n",
       "  <thead>\n",
       "    <tr style=\"text-align: right;\">\n",
       "      <th></th>\n",
       "      <th>product_id</th>\n",
       "      <th>product_name</th>\n",
       "      <th>aisle_id</th>\n",
       "      <th>department_id</th>\n",
       "    </tr>\n",
       "  </thead>\n",
       "  <tbody>\n",
       "    <tr>\n",
       "      <th>0</th>\n",
       "      <td>1</td>\n",
       "      <td>Chocolate Sandwich Cookies</td>\n",
       "      <td>61</td>\n",
       "      <td>19</td>\n",
       "    </tr>\n",
       "    <tr>\n",
       "      <th>1</th>\n",
       "      <td>2</td>\n",
       "      <td>All-Seasons Salt</td>\n",
       "      <td>104</td>\n",
       "      <td>13</td>\n",
       "    </tr>\n",
       "    <tr>\n",
       "      <th>2</th>\n",
       "      <td>3</td>\n",
       "      <td>Robust Golden Unsweetened Oolong Tea</td>\n",
       "      <td>94</td>\n",
       "      <td>7</td>\n",
       "    </tr>\n",
       "    <tr>\n",
       "      <th>3</th>\n",
       "      <td>4</td>\n",
       "      <td>Smart Ones Classic Favorites Mini Rigatoni Wit...</td>\n",
       "      <td>38</td>\n",
       "      <td>1</td>\n",
       "    </tr>\n",
       "    <tr>\n",
       "      <th>4</th>\n",
       "      <td>5</td>\n",
       "      <td>Green Chile Anytime Sauce</td>\n",
       "      <td>5</td>\n",
       "      <td>13</td>\n",
       "    </tr>\n",
       "    <tr>\n",
       "      <th>...</th>\n",
       "      <td>...</td>\n",
       "      <td>...</td>\n",
       "      <td>...</td>\n",
       "      <td>...</td>\n",
       "    </tr>\n",
       "    <tr>\n",
       "      <th>49689</th>\n",
       "      <td>49690</td>\n",
       "      <td>HIGH PERFORMANCE ENERGY DRINK</td>\n",
       "      <td>64</td>\n",
       "      <td>7</td>\n",
       "    </tr>\n",
       "    <tr>\n",
       "      <th>49690</th>\n",
       "      <td>49691</td>\n",
       "      <td>ORIGINAL PANCAKE &amp; WAFFLE MIX</td>\n",
       "      <td>130</td>\n",
       "      <td>14</td>\n",
       "    </tr>\n",
       "    <tr>\n",
       "      <th>49691</th>\n",
       "      <td>49692</td>\n",
       "      <td>ORGANIC INSTANT OATMEAL LIGHT MAPLE BROWN SUGAR</td>\n",
       "      <td>130</td>\n",
       "      <td>14</td>\n",
       "    </tr>\n",
       "    <tr>\n",
       "      <th>49692</th>\n",
       "      <td>49693</td>\n",
       "      <td>SPRING WATER BODY WASH</td>\n",
       "      <td>127</td>\n",
       "      <td>11</td>\n",
       "    </tr>\n",
       "    <tr>\n",
       "      <th>49693</th>\n",
       "      <td>49694</td>\n",
       "      <td>BURRITO- STEAK &amp; CHEESE</td>\n",
       "      <td>38</td>\n",
       "      <td>1</td>\n",
       "    </tr>\n",
       "  </tbody>\n",
       "</table>\n",
       "<p>49694 rows × 4 columns</p>\n",
       "</div>"
      ],
      "text/plain": [
       "       product_id                                       product_name  \\\n",
       "0               1                         Chocolate Sandwich Cookies   \n",
       "1               2                                   All-Seasons Salt   \n",
       "2               3               Robust Golden Unsweetened Oolong Tea   \n",
       "3               4  Smart Ones Classic Favorites Mini Rigatoni Wit...   \n",
       "4               5                          Green Chile Anytime Sauce   \n",
       "...           ...                                                ...   \n",
       "49689       49690                      HIGH PERFORMANCE ENERGY DRINK   \n",
       "49690       49691                      ORIGINAL PANCAKE & WAFFLE MIX   \n",
       "49691       49692    ORGANIC INSTANT OATMEAL LIGHT MAPLE BROWN SUGAR   \n",
       "49692       49693                             SPRING WATER BODY WASH   \n",
       "49693       49694                            BURRITO- STEAK & CHEESE   \n",
       "\n",
       "       aisle_id  department_id  \n",
       "0            61             19  \n",
       "1           104             13  \n",
       "2            94              7  \n",
       "3            38              1  \n",
       "4             5             13  \n",
       "...         ...            ...  \n",
       "49689        64              7  \n",
       "49690       130             14  \n",
       "49691       130             14  \n",
       "49692       127             11  \n",
       "49693        38              1  \n",
       "\n",
       "[49694 rows x 4 columns]"
      ]
     },
     "metadata": {},
     "output_type": "display_data"
    }
   ],
   "source": [
    "# visual of the data\n",
    "display(df_prod)"
   ]
  },
  {
   "cell_type": "code",
   "execution_count": 157,
   "id": "eb9902ef",
   "metadata": {},
   "outputs": [
    {
     "data": {
      "text/plain": [
       "0"
      ]
     },
     "execution_count": 157,
     "metadata": {},
     "output_type": "execute_result"
    }
   ],
   "source": [
    "# Check for fully duplicate rows\n",
    "df_prod.duplicated().sum()"
   ]
  },
  {
   "cell_type": "code",
   "execution_count": 158,
   "id": "bd8a7025",
   "metadata": {},
   "outputs": [
    {
     "data": {
      "text/plain": [
       "0"
      ]
     },
     "execution_count": 158,
     "metadata": {},
     "output_type": "execute_result"
    }
   ],
   "source": [
    "# Check for just duplicate product IDs\n",
    "df_prod['product_id'].duplicated().sum()"
   ]
  },
  {
   "cell_type": "code",
   "execution_count": 159,
   "id": "87b7971f",
   "metadata": {},
   "outputs": [
    {
     "data": {
      "text/plain": [
       "green tea with ginseng and honey               3\n",
       "vitamin d3 1000 iu                             2\n",
       "original potato chips                          2\n",
       "cream of celery condensed soup                 2\n",
       "balsamic vinegar of modena                     2\n",
       "                                              ..\n",
       "classic crust pepperoni pizza                  1\n",
       "temptations cat treats tempting tuna           1\n",
       "soft baked sugar cookies                       1\n",
       "frosted granny's apple pie toaster pastries    1\n",
       "stage 1 just bartlett pears baby food          1\n",
       "Name: product_name, Length: 48332, dtype: int64"
      ]
     },
     "execution_count": 159,
     "metadata": {},
     "output_type": "execute_result"
    }
   ],
   "source": [
    "# Check for just duplicate product names (convert names to lowercase to compare better)\n",
    "df_prod['product_name'] = df_prod['product_name'].str.lower()\n",
    "df_prod['product_name'].value_counts()"
   ]
  },
  {
   "cell_type": "code",
   "execution_count": 160,
   "id": "756c1155",
   "metadata": {},
   "outputs": [
    {
     "data": {
      "text/plain": [
       "1361"
      ]
     },
     "execution_count": 160,
     "metadata": {},
     "output_type": "execute_result"
    }
   ],
   "source": [
    "# Check for duplicate product names \n",
    "df_prod['product_name'].duplicated().sum()"
   ]
  },
  {
   "cell_type": "markdown",
   "id": "4511f76b",
   "metadata": {},
   "source": [
    "\n",
    "\n",
    "#### Products Dataframe Conclusions\n",
    "\n"
   ]
  },
  {
   "cell_type": "markdown",
   "id": "ea52055b",
   "metadata": {},
   "source": [
    "At first, we could not see duplicated values in the product data. However, product names were converted to lower case words. At this point, we were able to uncover duplicated product names, and we saw 1,361. Since the product names are all lowercase, we can keep the duplicates, as deleting them will alter some of our insights. "
   ]
  },
  {
   "cell_type": "markdown",
   "id": "9d70fc80",
   "metadata": {},
   "source": [
    "### `departments` data frame"
   ]
  },
  {
   "cell_type": "code",
   "execution_count": 161,
   "id": "c73cb612",
   "metadata": {},
   "outputs": [
    {
     "data": {
      "text/html": [
       "<div>\n",
       "<style scoped>\n",
       "    .dataframe tbody tr th:only-of-type {\n",
       "        vertical-align: middle;\n",
       "    }\n",
       "\n",
       "    .dataframe tbody tr th {\n",
       "        vertical-align: top;\n",
       "    }\n",
       "\n",
       "    .dataframe thead th {\n",
       "        text-align: right;\n",
       "    }\n",
       "</style>\n",
       "<table border=\"1\" class=\"dataframe\">\n",
       "  <thead>\n",
       "    <tr style=\"text-align: right;\">\n",
       "      <th></th>\n",
       "      <th>department_id</th>\n",
       "      <th>department</th>\n",
       "    </tr>\n",
       "  </thead>\n",
       "  <tbody>\n",
       "    <tr>\n",
       "      <th>0</th>\n",
       "      <td>1</td>\n",
       "      <td>frozen</td>\n",
       "    </tr>\n",
       "    <tr>\n",
       "      <th>1</th>\n",
       "      <td>2</td>\n",
       "      <td>other</td>\n",
       "    </tr>\n",
       "    <tr>\n",
       "      <th>2</th>\n",
       "      <td>3</td>\n",
       "      <td>bakery</td>\n",
       "    </tr>\n",
       "    <tr>\n",
       "      <th>3</th>\n",
       "      <td>4</td>\n",
       "      <td>produce</td>\n",
       "    </tr>\n",
       "    <tr>\n",
       "      <th>4</th>\n",
       "      <td>5</td>\n",
       "      <td>alcohol</td>\n",
       "    </tr>\n",
       "    <tr>\n",
       "      <th>5</th>\n",
       "      <td>6</td>\n",
       "      <td>international</td>\n",
       "    </tr>\n",
       "    <tr>\n",
       "      <th>6</th>\n",
       "      <td>7</td>\n",
       "      <td>beverages</td>\n",
       "    </tr>\n",
       "    <tr>\n",
       "      <th>7</th>\n",
       "      <td>8</td>\n",
       "      <td>pets</td>\n",
       "    </tr>\n",
       "    <tr>\n",
       "      <th>8</th>\n",
       "      <td>9</td>\n",
       "      <td>dry goods pasta</td>\n",
       "    </tr>\n",
       "    <tr>\n",
       "      <th>9</th>\n",
       "      <td>10</td>\n",
       "      <td>bulk</td>\n",
       "    </tr>\n",
       "    <tr>\n",
       "      <th>10</th>\n",
       "      <td>11</td>\n",
       "      <td>personal care</td>\n",
       "    </tr>\n",
       "    <tr>\n",
       "      <th>11</th>\n",
       "      <td>12</td>\n",
       "      <td>meat seafood</td>\n",
       "    </tr>\n",
       "    <tr>\n",
       "      <th>12</th>\n",
       "      <td>13</td>\n",
       "      <td>pantry</td>\n",
       "    </tr>\n",
       "    <tr>\n",
       "      <th>13</th>\n",
       "      <td>14</td>\n",
       "      <td>breakfast</td>\n",
       "    </tr>\n",
       "    <tr>\n",
       "      <th>14</th>\n",
       "      <td>15</td>\n",
       "      <td>canned goods</td>\n",
       "    </tr>\n",
       "    <tr>\n",
       "      <th>15</th>\n",
       "      <td>16</td>\n",
       "      <td>dairy eggs</td>\n",
       "    </tr>\n",
       "    <tr>\n",
       "      <th>16</th>\n",
       "      <td>17</td>\n",
       "      <td>household</td>\n",
       "    </tr>\n",
       "    <tr>\n",
       "      <th>17</th>\n",
       "      <td>18</td>\n",
       "      <td>babies</td>\n",
       "    </tr>\n",
       "    <tr>\n",
       "      <th>18</th>\n",
       "      <td>19</td>\n",
       "      <td>snacks</td>\n",
       "    </tr>\n",
       "    <tr>\n",
       "      <th>19</th>\n",
       "      <td>20</td>\n",
       "      <td>deli</td>\n",
       "    </tr>\n",
       "    <tr>\n",
       "      <th>20</th>\n",
       "      <td>21</td>\n",
       "      <td>missing</td>\n",
       "    </tr>\n",
       "  </tbody>\n",
       "</table>\n",
       "</div>"
      ],
      "text/plain": [
       "    department_id       department\n",
       "0               1           frozen\n",
       "1               2            other\n",
       "2               3           bakery\n",
       "3               4          produce\n",
       "4               5          alcohol\n",
       "5               6    international\n",
       "6               7        beverages\n",
       "7               8             pets\n",
       "8               9  dry goods pasta\n",
       "9              10             bulk\n",
       "10             11    personal care\n",
       "11             12     meat seafood\n",
       "12             13           pantry\n",
       "13             14        breakfast\n",
       "14             15     canned goods\n",
       "15             16       dairy eggs\n",
       "16             17        household\n",
       "17             18           babies\n",
       "18             19           snacks\n",
       "19             20             deli\n",
       "20             21          missing"
      ]
     },
     "metadata": {},
     "output_type": "display_data"
    }
   ],
   "source": [
    "# visual of the data\n",
    "display(df_dept)"
   ]
  },
  {
   "cell_type": "code",
   "execution_count": 162,
   "id": "27b17ec0",
   "metadata": {},
   "outputs": [
    {
     "data": {
      "text/plain": [
       "0"
      ]
     },
     "execution_count": 162,
     "metadata": {},
     "output_type": "execute_result"
    }
   ],
   "source": [
    "# number of duplicates\n",
    "df_dept.duplicated().sum()"
   ]
  },
  {
   "cell_type": "markdown",
   "id": "dd8041d8",
   "metadata": {},
   "source": [
    "#### Departments Dataframe Conclusions"
   ]
  },
  {
   "cell_type": "markdown",
   "id": "53d40f6c",
   "metadata": {},
   "source": [
    "The departments data contains 21 values without missing or duplicated values. "
   ]
  },
  {
   "cell_type": "markdown",
   "id": "b91bc0d1",
   "metadata": {},
   "source": [
    "### `aisles` data frame"
   ]
  },
  {
   "cell_type": "code",
   "execution_count": 163,
   "id": "ab67c096",
   "metadata": {},
   "outputs": [
    {
     "data": {
      "text/html": [
       "<div>\n",
       "<style scoped>\n",
       "    .dataframe tbody tr th:only-of-type {\n",
       "        vertical-align: middle;\n",
       "    }\n",
       "\n",
       "    .dataframe tbody tr th {\n",
       "        vertical-align: top;\n",
       "    }\n",
       "\n",
       "    .dataframe thead th {\n",
       "        text-align: right;\n",
       "    }\n",
       "</style>\n",
       "<table border=\"1\" class=\"dataframe\">\n",
       "  <thead>\n",
       "    <tr style=\"text-align: right;\">\n",
       "      <th></th>\n",
       "      <th>aisle_id</th>\n",
       "      <th>aisle</th>\n",
       "    </tr>\n",
       "  </thead>\n",
       "  <tbody>\n",
       "    <tr>\n",
       "      <th>0</th>\n",
       "      <td>1</td>\n",
       "      <td>prepared soups salads</td>\n",
       "    </tr>\n",
       "    <tr>\n",
       "      <th>1</th>\n",
       "      <td>2</td>\n",
       "      <td>specialty cheeses</td>\n",
       "    </tr>\n",
       "    <tr>\n",
       "      <th>2</th>\n",
       "      <td>3</td>\n",
       "      <td>energy granola bars</td>\n",
       "    </tr>\n",
       "    <tr>\n",
       "      <th>3</th>\n",
       "      <td>4</td>\n",
       "      <td>instant foods</td>\n",
       "    </tr>\n",
       "    <tr>\n",
       "      <th>4</th>\n",
       "      <td>5</td>\n",
       "      <td>marinades meat preparation</td>\n",
       "    </tr>\n",
       "    <tr>\n",
       "      <th>...</th>\n",
       "      <td>...</td>\n",
       "      <td>...</td>\n",
       "    </tr>\n",
       "    <tr>\n",
       "      <th>129</th>\n",
       "      <td>130</td>\n",
       "      <td>hot cereal pancake mixes</td>\n",
       "    </tr>\n",
       "    <tr>\n",
       "      <th>130</th>\n",
       "      <td>131</td>\n",
       "      <td>dry pasta</td>\n",
       "    </tr>\n",
       "    <tr>\n",
       "      <th>131</th>\n",
       "      <td>132</td>\n",
       "      <td>beauty</td>\n",
       "    </tr>\n",
       "    <tr>\n",
       "      <th>132</th>\n",
       "      <td>133</td>\n",
       "      <td>muscles joints pain relief</td>\n",
       "    </tr>\n",
       "    <tr>\n",
       "      <th>133</th>\n",
       "      <td>134</td>\n",
       "      <td>specialty wines champagnes</td>\n",
       "    </tr>\n",
       "  </tbody>\n",
       "</table>\n",
       "<p>134 rows × 2 columns</p>\n",
       "</div>"
      ],
      "text/plain": [
       "     aisle_id                       aisle\n",
       "0           1       prepared soups salads\n",
       "1           2           specialty cheeses\n",
       "2           3         energy granola bars\n",
       "3           4               instant foods\n",
       "4           5  marinades meat preparation\n",
       "..        ...                         ...\n",
       "129       130    hot cereal pancake mixes\n",
       "130       131                   dry pasta\n",
       "131       132                      beauty\n",
       "132       133  muscles joints pain relief\n",
       "133       134  specialty wines champagnes\n",
       "\n",
       "[134 rows x 2 columns]"
      ]
     },
     "metadata": {},
     "output_type": "display_data"
    }
   ],
   "source": [
    "# visual of the data\n",
    "display(df_aisles)"
   ]
  },
  {
   "cell_type": "markdown",
   "id": "a7bc18f0",
   "metadata": {},
   "source": [
    "There are 134 aisles with no missing values."
   ]
  },
  {
   "cell_type": "code",
   "execution_count": 165,
   "id": "0d50c0a9",
   "metadata": {},
   "outputs": [
    {
     "data": {
      "text/plain": [
       "0"
      ]
     },
     "execution_count": 165,
     "metadata": {},
     "output_type": "execute_result"
    }
   ],
   "source": [
    "df_aisles.duplicated().sum()"
   ]
  },
  {
   "cell_type": "markdown",
   "id": "a1a1340c",
   "metadata": {},
   "source": [
    "#### Aisles Dataframe Conclusions"
   ]
  },
  {
   "cell_type": "markdown",
   "id": "d5624d31",
   "metadata": {},
   "source": [
    "The aisles data contains 134 values without missing or duplicated values. "
   ]
  },
  {
   "cell_type": "markdown",
   "id": "b4fa27ab",
   "metadata": {},
   "source": [
    "### `order_products` data frame"
   ]
  },
  {
   "cell_type": "code",
   "execution_count": 166,
   "id": "c4cc7141",
   "metadata": {},
   "outputs": [
    {
     "data": {
      "text/html": [
       "<div>\n",
       "<style scoped>\n",
       "    .dataframe tbody tr th:only-of-type {\n",
       "        vertical-align: middle;\n",
       "    }\n",
       "\n",
       "    .dataframe tbody tr th {\n",
       "        vertical-align: top;\n",
       "    }\n",
       "\n",
       "    .dataframe thead th {\n",
       "        text-align: right;\n",
       "    }\n",
       "</style>\n",
       "<table border=\"1\" class=\"dataframe\">\n",
       "  <thead>\n",
       "    <tr style=\"text-align: right;\">\n",
       "      <th></th>\n",
       "      <th>order_id</th>\n",
       "      <th>product_id</th>\n",
       "      <th>add_to_cart_order</th>\n",
       "      <th>reordered</th>\n",
       "    </tr>\n",
       "  </thead>\n",
       "  <tbody>\n",
       "    <tr>\n",
       "      <th>0</th>\n",
       "      <td>2141543</td>\n",
       "      <td>11440</td>\n",
       "      <td>17.0</td>\n",
       "      <td>0</td>\n",
       "    </tr>\n",
       "    <tr>\n",
       "      <th>1</th>\n",
       "      <td>567889</td>\n",
       "      <td>1560</td>\n",
       "      <td>1.0</td>\n",
       "      <td>1</td>\n",
       "    </tr>\n",
       "    <tr>\n",
       "      <th>2</th>\n",
       "      <td>2261212</td>\n",
       "      <td>26683</td>\n",
       "      <td>1.0</td>\n",
       "      <td>1</td>\n",
       "    </tr>\n",
       "    <tr>\n",
       "      <th>3</th>\n",
       "      <td>491251</td>\n",
       "      <td>8670</td>\n",
       "      <td>35.0</td>\n",
       "      <td>1</td>\n",
       "    </tr>\n",
       "    <tr>\n",
       "      <th>4</th>\n",
       "      <td>2571142</td>\n",
       "      <td>1940</td>\n",
       "      <td>5.0</td>\n",
       "      <td>1</td>\n",
       "    </tr>\n",
       "    <tr>\n",
       "      <th>...</th>\n",
       "      <td>...</td>\n",
       "      <td>...</td>\n",
       "      <td>...</td>\n",
       "      <td>...</td>\n",
       "    </tr>\n",
       "    <tr>\n",
       "      <th>4545002</th>\n",
       "      <td>577211</td>\n",
       "      <td>15290</td>\n",
       "      <td>12.0</td>\n",
       "      <td>1</td>\n",
       "    </tr>\n",
       "    <tr>\n",
       "      <th>4545003</th>\n",
       "      <td>1219554</td>\n",
       "      <td>21914</td>\n",
       "      <td>9.0</td>\n",
       "      <td>0</td>\n",
       "    </tr>\n",
       "    <tr>\n",
       "      <th>4545004</th>\n",
       "      <td>692640</td>\n",
       "      <td>47766</td>\n",
       "      <td>4.0</td>\n",
       "      <td>1</td>\n",
       "    </tr>\n",
       "    <tr>\n",
       "      <th>4545005</th>\n",
       "      <td>319435</td>\n",
       "      <td>691</td>\n",
       "      <td>8.0</td>\n",
       "      <td>1</td>\n",
       "    </tr>\n",
       "    <tr>\n",
       "      <th>4545006</th>\n",
       "      <td>1398151</td>\n",
       "      <td>28733</td>\n",
       "      <td>9.0</td>\n",
       "      <td>0</td>\n",
       "    </tr>\n",
       "  </tbody>\n",
       "</table>\n",
       "<p>4545007 rows × 4 columns</p>\n",
       "</div>"
      ],
      "text/plain": [
       "         order_id  product_id  add_to_cart_order  reordered\n",
       "0         2141543       11440               17.0          0\n",
       "1          567889        1560                1.0          1\n",
       "2         2261212       26683                1.0          1\n",
       "3          491251        8670               35.0          1\n",
       "4         2571142        1940                5.0          1\n",
       "...           ...         ...                ...        ...\n",
       "4545002    577211       15290               12.0          1\n",
       "4545003   1219554       21914                9.0          0\n",
       "4545004    692640       47766                4.0          1\n",
       "4545005    319435         691                8.0          1\n",
       "4545006   1398151       28733                9.0          0\n",
       "\n",
       "[4545007 rows x 4 columns]"
      ]
     },
     "metadata": {},
     "output_type": "display_data"
    }
   ],
   "source": [
    "# visual of the data\n",
    "display(df_order_prod)"
   ]
  },
  {
   "cell_type": "code",
   "execution_count": 167,
   "id": "0379a060",
   "metadata": {},
   "outputs": [
    {
     "data": {
      "text/plain": [
       "0"
      ]
     },
     "execution_count": 167,
     "metadata": {},
     "output_type": "execute_result"
    }
   ],
   "source": [
    "# Check for fullly duplicate rows\n",
    "df_order_prod.duplicated().sum()"
   ]
  },
  {
   "cell_type": "code",
   "execution_count": 168,
   "id": "455b9bfe",
   "metadata": {
    "scrolled": true
   },
   "outputs": [
    {
     "data": {
      "text/plain": [
       "4094961"
      ]
     },
     "execution_count": 168,
     "metadata": {},
     "output_type": "execute_result"
    }
   ],
   "source": [
    "# duplicated order id\n",
    "df_order_prod['order_id'].duplicated().sum()"
   ]
  },
  {
   "cell_type": "code",
   "execution_count": 169,
   "id": "a3d186a6",
   "metadata": {},
   "outputs": [
    {
     "data": {
      "text/plain": [
       "4499434"
      ]
     },
     "execution_count": 169,
     "metadata": {},
     "output_type": "execute_result"
    }
   ],
   "source": [
    "# duplicated product id\n",
    "df_order_prod['product_id'].duplicated().sum()"
   ]
  },
  {
   "cell_type": "markdown",
   "id": "7e6e3718",
   "metadata": {},
   "source": [
    "Keep these duplicates because we can have order id's and product id's used multiple times among orders."
   ]
  },
  {
   "cell_type": "code",
   "execution_count": 170,
   "id": "f2733236",
   "metadata": {},
   "outputs": [
    {
     "data": {
      "text/html": [
       "<div>\n",
       "<style scoped>\n",
       "    .dataframe tbody tr th:only-of-type {\n",
       "        vertical-align: middle;\n",
       "    }\n",
       "\n",
       "    .dataframe tbody tr th {\n",
       "        vertical-align: top;\n",
       "    }\n",
       "\n",
       "    .dataframe thead th {\n",
       "        text-align: right;\n",
       "    }\n",
       "</style>\n",
       "<table border=\"1\" class=\"dataframe\">\n",
       "  <thead>\n",
       "    <tr style=\"text-align: right;\">\n",
       "      <th></th>\n",
       "      <th>order_id</th>\n",
       "      <th>product_id</th>\n",
       "      <th>add_to_cart_order</th>\n",
       "      <th>reordered</th>\n",
       "    </tr>\n",
       "  </thead>\n",
       "  <tbody>\n",
       "  </tbody>\n",
       "</table>\n",
       "</div>"
      ],
      "text/plain": [
       "Empty DataFrame\n",
       "Columns: [order_id, product_id, add_to_cart_order, reordered]\n",
       "Index: []"
      ]
     },
     "execution_count": 170,
     "metadata": {},
     "output_type": "execute_result"
    }
   ],
   "source": [
    "# checking for tricky duplicates with order id and product id\n",
    "df_order_prod[df_order_prod.duplicated(subset=['order_id', 'product_id'])]"
   ]
  },
  {
   "cell_type": "markdown",
   "id": "6aba301a",
   "metadata": {},
   "source": [
    "#### Order Products Dataframe Conclusions"
   ]
  },
  {
   "cell_type": "markdown",
   "id": "3cab5efb",
   "metadata": {},
   "source": [
    "We kept the duplicate product ids and duplicated order ids, as it is reasonable to conclude that these could be used multiple times. We also checked for hidden duplicates in the pair of columns, order id and product id, for products duplicated within the same order. One of the aisles is labeled as missing. "
   ]
  },
  {
   "cell_type": "markdown",
   "id": "76c124c0",
   "metadata": {},
   "source": [
    "## Find and remove missing values\n"
   ]
  },
  {
   "cell_type": "markdown",
   "id": "6da79429",
   "metadata": {},
   "source": [
    "### `products` data frame"
   ]
  },
  {
   "cell_type": "code",
   "execution_count": 171,
   "id": "6b6aa254",
   "metadata": {
    "scrolled": false
   },
   "outputs": [
    {
     "data": {
      "text/html": [
       "<div>\n",
       "<style scoped>\n",
       "    .dataframe tbody tr th:only-of-type {\n",
       "        vertical-align: middle;\n",
       "    }\n",
       "\n",
       "    .dataframe tbody tr th {\n",
       "        vertical-align: top;\n",
       "    }\n",
       "\n",
       "    .dataframe thead th {\n",
       "        text-align: right;\n",
       "    }\n",
       "</style>\n",
       "<table border=\"1\" class=\"dataframe\">\n",
       "  <thead>\n",
       "    <tr style=\"text-align: right;\">\n",
       "      <th></th>\n",
       "      <th>product_id</th>\n",
       "      <th>product_name</th>\n",
       "      <th>aisle_id</th>\n",
       "      <th>department_id</th>\n",
       "    </tr>\n",
       "  </thead>\n",
       "  <tbody>\n",
       "    <tr>\n",
       "      <th>0</th>\n",
       "      <td>1</td>\n",
       "      <td>chocolate sandwich cookies</td>\n",
       "      <td>61</td>\n",
       "      <td>19</td>\n",
       "    </tr>\n",
       "    <tr>\n",
       "      <th>1</th>\n",
       "      <td>2</td>\n",
       "      <td>all-seasons salt</td>\n",
       "      <td>104</td>\n",
       "      <td>13</td>\n",
       "    </tr>\n",
       "    <tr>\n",
       "      <th>2</th>\n",
       "      <td>3</td>\n",
       "      <td>robust golden unsweetened oolong tea</td>\n",
       "      <td>94</td>\n",
       "      <td>7</td>\n",
       "    </tr>\n",
       "    <tr>\n",
       "      <th>3</th>\n",
       "      <td>4</td>\n",
       "      <td>smart ones classic favorites mini rigatoni wit...</td>\n",
       "      <td>38</td>\n",
       "      <td>1</td>\n",
       "    </tr>\n",
       "    <tr>\n",
       "      <th>4</th>\n",
       "      <td>5</td>\n",
       "      <td>green chile anytime sauce</td>\n",
       "      <td>5</td>\n",
       "      <td>13</td>\n",
       "    </tr>\n",
       "    <tr>\n",
       "      <th>...</th>\n",
       "      <td>...</td>\n",
       "      <td>...</td>\n",
       "      <td>...</td>\n",
       "      <td>...</td>\n",
       "    </tr>\n",
       "    <tr>\n",
       "      <th>49689</th>\n",
       "      <td>49690</td>\n",
       "      <td>high performance energy drink</td>\n",
       "      <td>64</td>\n",
       "      <td>7</td>\n",
       "    </tr>\n",
       "    <tr>\n",
       "      <th>49690</th>\n",
       "      <td>49691</td>\n",
       "      <td>original pancake &amp; waffle mix</td>\n",
       "      <td>130</td>\n",
       "      <td>14</td>\n",
       "    </tr>\n",
       "    <tr>\n",
       "      <th>49691</th>\n",
       "      <td>49692</td>\n",
       "      <td>organic instant oatmeal light maple brown sugar</td>\n",
       "      <td>130</td>\n",
       "      <td>14</td>\n",
       "    </tr>\n",
       "    <tr>\n",
       "      <th>49692</th>\n",
       "      <td>49693</td>\n",
       "      <td>spring water body wash</td>\n",
       "      <td>127</td>\n",
       "      <td>11</td>\n",
       "    </tr>\n",
       "    <tr>\n",
       "      <th>49693</th>\n",
       "      <td>49694</td>\n",
       "      <td>burrito- steak &amp; cheese</td>\n",
       "      <td>38</td>\n",
       "      <td>1</td>\n",
       "    </tr>\n",
       "  </tbody>\n",
       "</table>\n",
       "<p>49694 rows × 4 columns</p>\n",
       "</div>"
      ],
      "text/plain": [
       "       product_id                                       product_name  \\\n",
       "0               1                         chocolate sandwich cookies   \n",
       "1               2                                   all-seasons salt   \n",
       "2               3               robust golden unsweetened oolong tea   \n",
       "3               4  smart ones classic favorites mini rigatoni wit...   \n",
       "4               5                          green chile anytime sauce   \n",
       "...           ...                                                ...   \n",
       "49689       49690                      high performance energy drink   \n",
       "49690       49691                      original pancake & waffle mix   \n",
       "49691       49692    organic instant oatmeal light maple brown sugar   \n",
       "49692       49693                             spring water body wash   \n",
       "49693       49694                            burrito- steak & cheese   \n",
       "\n",
       "       aisle_id  department_id  \n",
       "0            61             19  \n",
       "1           104             13  \n",
       "2            94              7  \n",
       "3            38              1  \n",
       "4             5             13  \n",
       "...         ...            ...  \n",
       "49689        64              7  \n",
       "49690       130             14  \n",
       "49691       130             14  \n",
       "49692       127             11  \n",
       "49693        38              1  \n",
       "\n",
       "[49694 rows x 4 columns]"
      ]
     },
     "metadata": {},
     "output_type": "display_data"
    }
   ],
   "source": [
    "# visual of the data\n",
    "display(df_prod)"
   ]
  },
  {
   "cell_type": "code",
   "execution_count": 172,
   "id": "eb76102b",
   "metadata": {},
   "outputs": [
    {
     "data": {
      "text/plain": [
       "1258"
      ]
     },
     "execution_count": 172,
     "metadata": {},
     "output_type": "execute_result"
    }
   ],
   "source": [
    "# Missing product names\n",
    "df_prod['product_name'].isna().sum()"
   ]
  },
  {
   "cell_type": "markdown",
   "id": "133e2534",
   "metadata": {},
   "source": [
    "Total of 1258 missing product names."
   ]
  },
  {
   "cell_type": "code",
   "execution_count": 174,
   "id": "b31783c2",
   "metadata": {
    "scrolled": false
   },
   "outputs": [
    {
     "name": "stdout",
     "output_type": "stream",
     "text": [
      "       aisle_id product_name\n",
      "37          100          NaN\n",
      "71          100          NaN\n",
      "109         100          NaN\n",
      "296         100          NaN\n",
      "416         100          NaN\n",
      "...         ...          ...\n",
      "49552       100          NaN\n",
      "49574       100          NaN\n",
      "49640       100          NaN\n",
      "49663       100          NaN\n",
      "49668       100          NaN\n",
      "\n",
      "[1258 rows x 2 columns]\n"
     ]
    }
   ],
   "source": [
    "# Are all of the missing product names associated with aisle ID 100?\n",
    "print(df_prod.query(\"aisle_id==100\")[['aisle_id', 'product_name']])"
   ]
  },
  {
   "cell_type": "code",
   "execution_count": 175,
   "id": "84afd4d3",
   "metadata": {},
   "outputs": [
    {
     "name": "stdout",
     "output_type": "stream",
     "text": [
      "aisle_id        1258\n",
      "product_name       0\n",
      "dtype: int64\n"
     ]
    }
   ],
   "source": [
    "# aisle id 100 product names\n",
    "print(df_prod.query(\"aisle_id==100\")[['aisle_id', 'product_name']].count())"
   ]
  },
  {
   "cell_type": "markdown",
   "id": "1a0259b3",
   "metadata": {},
   "source": [
    "All of missing product names are associated with aisle ID 100."
   ]
  },
  {
   "cell_type": "code",
   "execution_count": 176,
   "id": "4e61a237",
   "metadata": {
    "scrolled": true
   },
   "outputs": [
    {
     "name": "stdout",
     "output_type": "stream",
     "text": [
      "       department_id product_name\n",
      "37                21          NaN\n",
      "71                21          NaN\n",
      "109               21          NaN\n",
      "296               21          NaN\n",
      "416               21          NaN\n",
      "...              ...          ...\n",
      "49552             21          NaN\n",
      "49574             21          NaN\n",
      "49640             21          NaN\n",
      "49663             21          NaN\n",
      "49668             21          NaN\n",
      "\n",
      "[1258 rows x 2 columns]\n"
     ]
    }
   ],
   "source": [
    "# Are all of the missing product names associated with department ID 21?\n",
    "print(df_prod.query(\"department_id==21\")[['department_id', 'product_name']])"
   ]
  },
  {
   "cell_type": "code",
   "execution_count": 177,
   "id": "833b8cf3",
   "metadata": {
    "scrolled": true
   },
   "outputs": [
    {
     "name": "stdout",
     "output_type": "stream",
     "text": [
      "department_id    1258\n",
      "product_name        0\n",
      "dtype: int64\n"
     ]
    }
   ],
   "source": [
    "# department id 21 product names\n",
    "print(df_prod.query(\"department_id==21\")[['department_id', 'product_name']].count())"
   ]
  },
  {
   "cell_type": "markdown",
   "id": "64c6049e",
   "metadata": {},
   "source": [
    "All of missing product names are also associated with department ID 21."
   ]
  },
  {
   "cell_type": "code",
   "execution_count": 178,
   "id": "8379347a",
   "metadata": {},
   "outputs": [
    {
     "name": "stdout",
     "output_type": "stream",
     "text": [
      "    department_id department\n",
      "20             21    missing\n",
      "\n",
      "    aisle_id    aisle\n",
      "99       100  missing\n"
     ]
    }
   ],
   "source": [
    "# What is this aisle and department?\n",
    "print(df_dept.query(\"department_id==21\")) \n",
    "print()\n",
    "print(df_aisles.query(\"aisle_id==100\"))"
   ]
  },
  {
   "cell_type": "markdown",
   "id": "ab672e04",
   "metadata": {},
   "source": [
    "Department and aisle both labeled as missing."
   ]
  },
  {
   "cell_type": "code",
   "execution_count": 180,
   "id": "83be4a1c",
   "metadata": {
    "scrolled": true
   },
   "outputs": [],
   "source": [
    "# Fill missing product names with 'Unknown'\n",
    "df_prod['product_name'] = df_prod['product_name'].fillna('unknown')"
   ]
  },
  {
   "cell_type": "code",
   "execution_count": 181,
   "id": "e4869036",
   "metadata": {
    "scrolled": true
   },
   "outputs": [
    {
     "name": "stdout",
     "output_type": "stream",
     "text": [
      "       aisle_id product_name\n",
      "37          100      unknown\n",
      "71          100      unknown\n",
      "109         100      unknown\n",
      "296         100      unknown\n",
      "416         100      unknown\n",
      "...         ...          ...\n",
      "49552       100      unknown\n",
      "49574       100      unknown\n",
      "49640       100      unknown\n",
      "49663       100      unknown\n",
      "49668       100      unknown\n",
      "\n",
      "[1258 rows x 2 columns]\n"
     ]
    }
   ],
   "source": [
    "# QC check on aisle id 100 changing product name to unknown\n",
    "print(df_prod.query(\"aisle_id==100\")[['aisle_id', 'product_name']])"
   ]
  },
  {
   "cell_type": "code",
   "execution_count": 182,
   "id": "5810e846",
   "metadata": {},
   "outputs": [],
   "source": [
    "# filling missing department id\n",
    "df_prod['department_id'] = df_prod['department_id'].fillna('unknown')"
   ]
  },
  {
   "cell_type": "code",
   "execution_count": 183,
   "id": "14191b1c",
   "metadata": {},
   "outputs": [
    {
     "name": "stdout",
     "output_type": "stream",
     "text": [
      "       department_id product_name\n",
      "37                21      unknown\n",
      "71                21      unknown\n",
      "109               21      unknown\n",
      "296               21      unknown\n",
      "416               21      unknown\n",
      "...              ...          ...\n",
      "49552             21      unknown\n",
      "49574             21      unknown\n",
      "49640             21      unknown\n",
      "49663             21      unknown\n",
      "49668             21      unknown\n",
      "\n",
      "[1258 rows x 2 columns]\n"
     ]
    }
   ],
   "source": [
    "# QC check on department 21 changing product name to unknown\n",
    "print(df_prod.query(\"department_id==21\")[['department_id', 'product_name']])"
   ]
  },
  {
   "cell_type": "markdown",
   "id": "ba6a2c51",
   "metadata": {},
   "source": [
    "#### Products Dataframe Conclusions"
   ]
  },
  {
   "cell_type": "markdown",
   "id": "e8c04cd8",
   "metadata": {},
   "source": [
    "We saw that there were 1258 missing product names. These missing values were associated with aisle id 100 and department id 21. Then, we saw that the aisle and department in question were labeled as missing. We cleaned the data by changing these missing values to 'unknown'. We then confirmed proper implementation by once again looking at aisle id 100 and department id 21. Missing values were indeed changed to 'unknown'. This allowed us to keep the data, as aisle and department were not crucial in our analysis. "
   ]
  },
  {
   "cell_type": "markdown",
   "id": "8c5bb93c",
   "metadata": {},
   "source": [
    "### `orders` data frame"
   ]
  },
  {
   "cell_type": "code",
   "execution_count": 184,
   "id": "6de2f744",
   "metadata": {},
   "outputs": [
    {
     "data": {
      "text/html": [
       "<div>\n",
       "<style scoped>\n",
       "    .dataframe tbody tr th:only-of-type {\n",
       "        vertical-align: middle;\n",
       "    }\n",
       "\n",
       "    .dataframe tbody tr th {\n",
       "        vertical-align: top;\n",
       "    }\n",
       "\n",
       "    .dataframe thead th {\n",
       "        text-align: right;\n",
       "    }\n",
       "</style>\n",
       "<table border=\"1\" class=\"dataframe\">\n",
       "  <thead>\n",
       "    <tr style=\"text-align: right;\">\n",
       "      <th></th>\n",
       "      <th>order_id</th>\n",
       "      <th>user_id</th>\n",
       "      <th>order_number</th>\n",
       "      <th>order_dow</th>\n",
       "      <th>order_hour_of_day</th>\n",
       "      <th>days_since_prior_order</th>\n",
       "    </tr>\n",
       "  </thead>\n",
       "  <tbody>\n",
       "    <tr>\n",
       "      <th>0</th>\n",
       "      <td>1515936.0</td>\n",
       "      <td>183418</td>\n",
       "      <td>11</td>\n",
       "      <td>6</td>\n",
       "      <td>13</td>\n",
       "      <td>30.0</td>\n",
       "    </tr>\n",
       "    <tr>\n",
       "      <th>1</th>\n",
       "      <td>1690866.0</td>\n",
       "      <td>163593</td>\n",
       "      <td>5</td>\n",
       "      <td>5</td>\n",
       "      <td>12</td>\n",
       "      <td>9.0</td>\n",
       "    </tr>\n",
       "    <tr>\n",
       "      <th>2</th>\n",
       "      <td>1454967.0</td>\n",
       "      <td>39980</td>\n",
       "      <td>4</td>\n",
       "      <td>5</td>\n",
       "      <td>19</td>\n",
       "      <td>2.0</td>\n",
       "    </tr>\n",
       "    <tr>\n",
       "      <th>3</th>\n",
       "      <td>1768857.0</td>\n",
       "      <td>82516</td>\n",
       "      <td>56</td>\n",
       "      <td>0</td>\n",
       "      <td>20</td>\n",
       "      <td>10.0</td>\n",
       "    </tr>\n",
       "    <tr>\n",
       "      <th>4</th>\n",
       "      <td>3007858.0</td>\n",
       "      <td>196724</td>\n",
       "      <td>2</td>\n",
       "      <td>4</td>\n",
       "      <td>12</td>\n",
       "      <td>17.0</td>\n",
       "    </tr>\n",
       "    <tr>\n",
       "      <th>...</th>\n",
       "      <td>...</td>\n",
       "      <td>...</td>\n",
       "      <td>...</td>\n",
       "      <td>...</td>\n",
       "      <td>...</td>\n",
       "      <td>...</td>\n",
       "    </tr>\n",
       "    <tr>\n",
       "      <th>478962</th>\n",
       "      <td>3210681.0</td>\n",
       "      <td>5617</td>\n",
       "      <td>5</td>\n",
       "      <td>1</td>\n",
       "      <td>14</td>\n",
       "      <td>7.0</td>\n",
       "    </tr>\n",
       "    <tr>\n",
       "      <th>478963</th>\n",
       "      <td>3270802.0</td>\n",
       "      <td>112087</td>\n",
       "      <td>2</td>\n",
       "      <td>3</td>\n",
       "      <td>13</td>\n",
       "      <td>6.0</td>\n",
       "    </tr>\n",
       "    <tr>\n",
       "      <th>478964</th>\n",
       "      <td>885349.0</td>\n",
       "      <td>82944</td>\n",
       "      <td>16</td>\n",
       "      <td>2</td>\n",
       "      <td>11</td>\n",
       "      <td>6.0</td>\n",
       "    </tr>\n",
       "    <tr>\n",
       "      <th>478965</th>\n",
       "      <td>216274.0</td>\n",
       "      <td>4391</td>\n",
       "      <td>3</td>\n",
       "      <td>3</td>\n",
       "      <td>8</td>\n",
       "      <td>8.0</td>\n",
       "    </tr>\n",
       "    <tr>\n",
       "      <th>478966</th>\n",
       "      <td>2071924.0</td>\n",
       "      <td>1730</td>\n",
       "      <td>18</td>\n",
       "      <td>1</td>\n",
       "      <td>14</td>\n",
       "      <td>15.0</td>\n",
       "    </tr>\n",
       "  </tbody>\n",
       "</table>\n",
       "<p>478967 rows × 6 columns</p>\n",
       "</div>"
      ],
      "text/plain": [
       "         order_id  user_id  order_number  order_dow  order_hour_of_day  \\\n",
       "0       1515936.0   183418            11          6                 13   \n",
       "1       1690866.0   163593             5          5                 12   \n",
       "2       1454967.0    39980             4          5                 19   \n",
       "3       1768857.0    82516            56          0                 20   \n",
       "4       3007858.0   196724             2          4                 12   \n",
       "...           ...      ...           ...        ...                ...   \n",
       "478962  3210681.0     5617             5          1                 14   \n",
       "478963  3270802.0   112087             2          3                 13   \n",
       "478964   885349.0    82944            16          2                 11   \n",
       "478965   216274.0     4391             3          3                  8   \n",
       "478966  2071924.0     1730            18          1                 14   \n",
       "\n",
       "        days_since_prior_order  \n",
       "0                         30.0  \n",
       "1                          9.0  \n",
       "2                          2.0  \n",
       "3                         10.0  \n",
       "4                         17.0  \n",
       "...                        ...  \n",
       "478962                     7.0  \n",
       "478963                     6.0  \n",
       "478964                     6.0  \n",
       "478965                     8.0  \n",
       "478966                    15.0  \n",
       "\n",
       "[478967 rows x 6 columns]"
      ]
     },
     "metadata": {},
     "output_type": "display_data"
    }
   ],
   "source": [
    "# display dataframe\n",
    "display(df_inst_orders)"
   ]
  },
  {
   "cell_type": "code",
   "execution_count": 185,
   "id": "49444d86",
   "metadata": {
    "scrolled": false
   },
   "outputs": [
    {
     "data": {
      "text/plain": [
       "order_id                  13\n",
       "user_id                    0\n",
       "order_number               0\n",
       "order_dow                  0\n",
       "order_hour_of_day          0\n",
       "days_since_prior_order     0\n",
       "dtype: int64"
      ]
     },
     "execution_count": 185,
     "metadata": {},
     "output_type": "execute_result"
    }
   ],
   "source": [
    "# Are there any missing values where it's not a customer's first order?\n",
    "df_inst_orders.query(\"order_number > 1\").isna().sum()"
   ]
  },
  {
   "cell_type": "code",
   "execution_count": 186,
   "id": "d8a518c7",
   "metadata": {},
   "outputs": [
    {
     "name": "stdout",
     "output_type": "stream",
     "text": [
      "Number of missing order id values, where its not a customer's first order:\n"
     ]
    },
    {
     "data": {
      "text/plain": [
       "13"
      ]
     },
     "execution_count": 186,
     "metadata": {},
     "output_type": "execute_result"
    }
   ],
   "source": [
    "# 13 missing values where it is not a customer's first order\n",
    "print('Number of missing order id values, where its not a customer\\'s first order:')\n",
    "df_inst_orders.query(\"order_number > 1\")['order_id'].isna().sum()"
   ]
  },
  {
   "cell_type": "code",
   "execution_count": 187,
   "id": "4ece5194",
   "metadata": {},
   "outputs": [
    {
     "name": "stdout",
     "output_type": "stream",
     "text": [
      "         order_id  user_id  order_number  order_dow  order_hour_of_day  \\\n",
      "426491  1769679.0   195377             2          4                 11   \n",
      "435359  3349347.0   115073             2          5                 16   \n",
      "201530  2114762.0   125572             2          0                 22   \n",
      "454267  2283616.0   113965             2          5                  9   \n",
      "201532  1289383.0   203762             2          1                 20   \n",
      "...           ...      ...           ...        ...                ...   \n",
      "142916  3406102.0    71049           100          6                 12   \n",
      "60091   1055636.0   142304           100          3                 10   \n",
      "60207   1947672.0   113588           100          0                 15   \n",
      "28574   2378889.0    95171           100          1                 15   \n",
      "2482      94667.0     8220           100          1                 13   \n",
      "\n",
      "        days_since_prior_order  \n",
      "426491                     8.0  \n",
      "435359                    23.0  \n",
      "201530                    30.0  \n",
      "454267                     2.0  \n",
      "201532                     5.0  \n",
      "...                        ...  \n",
      "142916                     5.0  \n",
      "60091                      2.0  \n",
      "60207                      1.0  \n",
      "28574                      0.0  \n",
      "2482                       3.0  \n",
      "\n",
      "[450148 rows x 6 columns]\n"
     ]
    }
   ],
   "source": [
    "# ensure proper query of data\n",
    "print(df_inst_orders.query(\"order_number > 1\").sort_values(by='order_number', ascending=True))"
   ]
  },
  {
   "cell_type": "markdown",
   "id": "82cadc69",
   "metadata": {},
   "source": [
    "#### Orders Dataframe conclusions"
   ]
  },
  {
   "cell_type": "markdown",
   "id": "73ab447c",
   "metadata": {},
   "source": [
    "We see a total of 13 missing values, where it is not a customer's first order. We keep the data, because it still hase usefull information. "
   ]
  },
  {
   "cell_type": "markdown",
   "id": "1825b2f6",
   "metadata": {},
   "source": [
    "### `order_products` data frame"
   ]
  },
  {
   "cell_type": "code",
   "execution_count": 188,
   "id": "91b76bfa",
   "metadata": {},
   "outputs": [
    {
     "data": {
      "text/html": [
       "<div>\n",
       "<style scoped>\n",
       "    .dataframe tbody tr th:only-of-type {\n",
       "        vertical-align: middle;\n",
       "    }\n",
       "\n",
       "    .dataframe tbody tr th {\n",
       "        vertical-align: top;\n",
       "    }\n",
       "\n",
       "    .dataframe thead th {\n",
       "        text-align: right;\n",
       "    }\n",
       "</style>\n",
       "<table border=\"1\" class=\"dataframe\">\n",
       "  <thead>\n",
       "    <tr style=\"text-align: right;\">\n",
       "      <th></th>\n",
       "      <th>order_id</th>\n",
       "      <th>product_id</th>\n",
       "      <th>add_to_cart_order</th>\n",
       "      <th>reordered</th>\n",
       "    </tr>\n",
       "  </thead>\n",
       "  <tbody>\n",
       "    <tr>\n",
       "      <th>0</th>\n",
       "      <td>2141543</td>\n",
       "      <td>11440</td>\n",
       "      <td>17.0</td>\n",
       "      <td>0</td>\n",
       "    </tr>\n",
       "    <tr>\n",
       "      <th>1</th>\n",
       "      <td>567889</td>\n",
       "      <td>1560</td>\n",
       "      <td>1.0</td>\n",
       "      <td>1</td>\n",
       "    </tr>\n",
       "    <tr>\n",
       "      <th>2</th>\n",
       "      <td>2261212</td>\n",
       "      <td>26683</td>\n",
       "      <td>1.0</td>\n",
       "      <td>1</td>\n",
       "    </tr>\n",
       "    <tr>\n",
       "      <th>3</th>\n",
       "      <td>491251</td>\n",
       "      <td>8670</td>\n",
       "      <td>35.0</td>\n",
       "      <td>1</td>\n",
       "    </tr>\n",
       "    <tr>\n",
       "      <th>4</th>\n",
       "      <td>2571142</td>\n",
       "      <td>1940</td>\n",
       "      <td>5.0</td>\n",
       "      <td>1</td>\n",
       "    </tr>\n",
       "    <tr>\n",
       "      <th>...</th>\n",
       "      <td>...</td>\n",
       "      <td>...</td>\n",
       "      <td>...</td>\n",
       "      <td>...</td>\n",
       "    </tr>\n",
       "    <tr>\n",
       "      <th>4545002</th>\n",
       "      <td>577211</td>\n",
       "      <td>15290</td>\n",
       "      <td>12.0</td>\n",
       "      <td>1</td>\n",
       "    </tr>\n",
       "    <tr>\n",
       "      <th>4545003</th>\n",
       "      <td>1219554</td>\n",
       "      <td>21914</td>\n",
       "      <td>9.0</td>\n",
       "      <td>0</td>\n",
       "    </tr>\n",
       "    <tr>\n",
       "      <th>4545004</th>\n",
       "      <td>692640</td>\n",
       "      <td>47766</td>\n",
       "      <td>4.0</td>\n",
       "      <td>1</td>\n",
       "    </tr>\n",
       "    <tr>\n",
       "      <th>4545005</th>\n",
       "      <td>319435</td>\n",
       "      <td>691</td>\n",
       "      <td>8.0</td>\n",
       "      <td>1</td>\n",
       "    </tr>\n",
       "    <tr>\n",
       "      <th>4545006</th>\n",
       "      <td>1398151</td>\n",
       "      <td>28733</td>\n",
       "      <td>9.0</td>\n",
       "      <td>0</td>\n",
       "    </tr>\n",
       "  </tbody>\n",
       "</table>\n",
       "<p>4545007 rows × 4 columns</p>\n",
       "</div>"
      ],
      "text/plain": [
       "         order_id  product_id  add_to_cart_order  reordered\n",
       "0         2141543       11440               17.0          0\n",
       "1          567889        1560                1.0          1\n",
       "2         2261212       26683                1.0          1\n",
       "3          491251        8670               35.0          1\n",
       "4         2571142        1940                5.0          1\n",
       "...           ...         ...                ...        ...\n",
       "4545002    577211       15290               12.0          1\n",
       "4545003   1219554       21914                9.0          0\n",
       "4545004    692640       47766                4.0          1\n",
       "4545005    319435         691                8.0          1\n",
       "4545006   1398151       28733                9.0          0\n",
       "\n",
       "[4545007 rows x 4 columns]"
      ]
     },
     "metadata": {},
     "output_type": "display_data"
    }
   ],
   "source": [
    "# display dataframe\n",
    "display(df_order_prod)"
   ]
  },
  {
   "cell_type": "code",
   "execution_count": 189,
   "id": "d91e2864",
   "metadata": {},
   "outputs": [
    {
     "name": "stdout",
     "output_type": "stream",
     "text": [
      "Min, Max\n"
     ]
    },
    {
     "data": {
      "text/plain": [
       "(1, 49694)"
      ]
     },
     "execution_count": 189,
     "metadata": {},
     "output_type": "execute_result"
    }
   ],
   "source": [
    "# What are the min and max values in this column\n",
    "print('Min, Max')\n",
    "df_order_prod['product_id'].min(), df_order_prod['product_id'].max()"
   ]
  },
  {
   "cell_type": "code",
   "execution_count": 190,
   "id": "ffe12e9b",
   "metadata": {
    "scrolled": true
   },
   "outputs": [],
   "source": [
    "# Save all order IDs with at least one missing value in 'add_to_cart_order'\n",
    "df_miss = df_order_prod[['add_to_cart_order','order_id']].isna().sort_values(by='order_id', ascending=False)"
   ]
  },
  {
   "cell_type": "code",
   "execution_count": 191,
   "id": "8aee72e2",
   "metadata": {},
   "outputs": [
    {
     "data": {
      "text/plain": [
       "836"
      ]
     },
     "execution_count": 191,
     "metadata": {},
     "output_type": "execute_result"
    }
   ],
   "source": [
    "# number of missing values\n",
    "df_order_prod['add_to_cart_order'].isna().sum()"
   ]
  },
  {
   "cell_type": "code",
   "execution_count": 192,
   "id": "35c6ae9e",
   "metadata": {
    "scrolled": false
   },
   "outputs": [
    {
     "name": "stdout",
     "output_type": "stream",
     "text": [
      "         add_to_cart_order  order_id  product_id\n",
      "737                    NaN   2449164        5068\n",
      "9926                   NaN   1968313       43867\n",
      "14394                  NaN   2926893       11688\n",
      "16418                  NaN   1717990        4142\n",
      "30114                  NaN   1959075       42828\n",
      "...                    ...       ...         ...\n",
      "4505662                NaN   1800005        7411\n",
      "4511400                NaN   1633337         260\n",
      "4517562                NaN    404157        9517\n",
      "4534112                NaN   1673227       17835\n",
      "4535739                NaN   1832957       17949\n",
      "\n",
      "[836 rows x 3 columns]\n"
     ]
    }
   ],
   "source": [
    "# create missing cart dataframe\n",
    "df_miss_cart = df_order_prod[['add_to_cart_order','order_id','product_id']].sort_values(by='add_to_cart_order').tail(836)\n",
    "print(df_miss_cart)"
   ]
  },
  {
   "cell_type": "code",
   "execution_count": 193,
   "id": "f4c1a43d",
   "metadata": {
    "scrolled": true
   },
   "outputs": [
    {
     "name": "stdout",
     "output_type": "stream",
     "text": [
      "          order_id  user_id  order_number  order_dow  order_hour_of_day  \\\n",
      "0        1515936.0   183418            11          6                 13   \n",
      "1        1515936.0   183418            11          6                 13   \n",
      "2        1515936.0   183418            11          6                 13   \n",
      "3        1515936.0   183418            11          6                 13   \n",
      "4        1515936.0   183418            11          6                 13   \n",
      "...            ...      ...           ...        ...                ...   \n",
      "4545002  2071924.0     1730            18          1                 14   \n",
      "4545003  2071924.0     1730            18          1                 14   \n",
      "4545004  2071924.0     1730            18          1                 14   \n",
      "4545005  2071924.0     1730            18          1                 14   \n",
      "4545006  2071924.0     1730            18          1                 14   \n",
      "\n",
      "         days_since_prior_order  product_id  add_to_cart_order  reordered  \n",
      "0                          30.0       19048                1.0          1  \n",
      "1                          30.0       47766                3.0          1  \n",
      "2                          30.0       45066                9.0          0  \n",
      "3                          30.0       24082               11.0          0  \n",
      "4                          30.0       24363                4.0          0  \n",
      "...                         ...         ...                ...        ...  \n",
      "4545002                    15.0        1503               17.0          0  \n",
      "4545003                    15.0        4778               12.0          1  \n",
      "4545004                    15.0       11512                1.0          1  \n",
      "4545005                    15.0        4920                6.0          1  \n",
      "4545006                    15.0       17678                4.0          1  \n",
      "\n",
      "[4545007 rows x 9 columns]\n"
     ]
    }
   ],
   "source": [
    "# merge two order dataframes\n",
    "df_ord_prod_merge = df_inst_orders.merge(df_order_prod, on='order_id')\n",
    "print(df_ord_prod_merge)"
   ]
  },
  {
   "cell_type": "code",
   "execution_count": 194,
   "id": "d2b44d90",
   "metadata": {
    "scrolled": true
   },
   "outputs": [
    {
     "name": "stdout",
     "output_type": "stream",
     "text": [
      "       add_to_cart_order_x  order_id  product_id_x  product_id_y  \\\n",
      "0                      NaN   2449164          5068          5068   \n",
      "1                      NaN   2449164          5068         14386   \n",
      "2                      NaN   2449164          5068         32864   \n",
      "3                      NaN   2449164          5068          8518   \n",
      "4                      NaN   2449164          5068         24497   \n",
      "...                    ...       ...           ...           ...   \n",
      "74963                  NaN   1832957         17949         38844   \n",
      "74964                  NaN   1832957         17949         19348   \n",
      "74965                  NaN   1832957         17949         16793   \n",
      "74966                  NaN   1832957         17949          5438   \n",
      "74967                  NaN   1832957         17949         17949   \n",
      "\n",
      "       add_to_cart_order_y  reordered  \n",
      "0                      NaN          0  \n",
      "1                      NaN          0  \n",
      "2                     10.0          1  \n",
      "3                      NaN          0  \n",
      "4                     32.0          1  \n",
      "...                    ...        ...  \n",
      "74963                 24.0          1  \n",
      "74964                  NaN          1  \n",
      "74965                 19.0          1  \n",
      "74966                  NaN          1  \n",
      "74967                  NaN          1  \n",
      "\n",
      "[74968 rows x 6 columns]\n"
     ]
    }
   ],
   "source": [
    "# Do all orders with missing values have more than 64 products?\n",
    "df_miss_merge = df_miss_cart.merge(df_order_prod, on='order_id', how='left')\n",
    "print(df_miss_merge)"
   ]
  },
  {
   "cell_type": "code",
   "execution_count": 196,
   "id": "c93a91f6",
   "metadata": {},
   "outputs": [
    {
     "data": {
      "text/plain": [
       "65"
      ]
     },
     "execution_count": 196,
     "metadata": {},
     "output_type": "execute_result"
    }
   ],
   "source": [
    "# all orders with missing values have a minimum of 65 products\n",
    "df_miss_merge.groupby('order_id')['product_id_x'].value_counts().min()"
   ]
  },
  {
   "cell_type": "code",
   "execution_count": 197,
   "id": "2c056ad6",
   "metadata": {},
   "outputs": [],
   "source": [
    "# Replace missing values with 999 and convert column to integer type\n",
    "df_order_prod['add_to_cart_order'] = df_order_prod['add_to_cart_order'].fillna('999')\n",
    "df_order_prod['add_to_cart_order'] = pd.to_numeric(df_order_prod['add_to_cart_order'], errors='coerce')\n",
    "df_order_prod['add_to_cart_order'] = df_order_prod['add_to_cart_order'].astype('int', errors='ignore')"
   ]
  },
  {
   "cell_type": "code",
   "execution_count": 200,
   "id": "de6603c4",
   "metadata": {},
   "outputs": [
    {
     "data": {
      "text/plain": [
       "order_id             int64\n",
       "product_id           int64\n",
       "add_to_cart_order    int64\n",
       "reordered            int64\n",
       "dtype: object"
      ]
     },
     "execution_count": 200,
     "metadata": {},
     "output_type": "execute_result"
    }
   ],
   "source": [
    "# checking dtype\n",
    "df_order_prod.dtypes"
   ]
  },
  {
   "cell_type": "markdown",
   "id": "fd46f9e1",
   "metadata": {},
   "source": [
    "#### Order Produts Dataframe"
   ]
  },
  {
   "cell_type": "markdown",
   "id": "d69597e8",
   "metadata": {},
   "source": [
    "This data shows us we have close to 50,000 different products for purchase on the platform. We see missing values in the column \n",
    "that determines the order a product is placed into the cart. We also observe that all orders with missing values contain more than 64 products in the cart. Analyses need to be made with this column, so we change the missing values to '999' in the data. We can do this based on the assumption that the number of items customers usually put into their cart, is less that 64. We will confirm this later in the project. The add to cart order column was then changed to an integer type, as decimals were not needed. This was done because we only add integer values for items to the cart."
   ]
  },
  {
   "cell_type": "markdown",
   "id": "6da4c24a",
   "metadata": {},
   "source": [
    "### [A1] Verify that the `'order_hour_of_day'` and `'order_dow'` values in the `orders` tables are sensible (i.e. `'order_hour_of_day'` ranges from 0 to 23 and `'order_dow'` ranges from 0 to 6)"
   ]
  },
  {
   "cell_type": "code",
   "execution_count": 201,
   "id": "7ce7a963",
   "metadata": {},
   "outputs": [
    {
     "name": "stdout",
     "output_type": "stream",
     "text": [
      "Min, Max\n"
     ]
    },
    {
     "data": {
      "text/plain": [
       "(0, 23)"
      ]
     },
     "execution_count": 201,
     "metadata": {},
     "output_type": "execute_result"
    }
   ],
   "source": [
    "# min and max order hours of the day\n",
    "print('Min, Max')\n",
    "df_inst_orders['order_hour_of_day'].min() , df_inst_orders['order_hour_of_day'].max()"
   ]
  },
  {
   "cell_type": "code",
   "execution_count": 202,
   "id": "bd17ac84",
   "metadata": {
    "scrolled": true
   },
   "outputs": [
    {
     "data": {
      "text/plain": [
       "[0,\n",
       " 1,\n",
       " 2,\n",
       " 3,\n",
       " 4,\n",
       " 5,\n",
       " 6,\n",
       " 7,\n",
       " 8,\n",
       " 9,\n",
       " 10,\n",
       " 11,\n",
       " 12,\n",
       " 13,\n",
       " 14,\n",
       " 15,\n",
       " 16,\n",
       " 17,\n",
       " 18,\n",
       " 19,\n",
       " 20,\n",
       " 21,\n",
       " 22,\n",
       " 23]"
      ]
     },
     "execution_count": 202,
     "metadata": {},
     "output_type": "execute_result"
    }
   ],
   "source": [
    "# numnber of hours\n",
    "sorted(df_inst_orders['order_hour_of_day'].unique())"
   ]
  },
  {
   "cell_type": "code",
   "execution_count": 203,
   "id": "450a7811",
   "metadata": {
    "scrolled": true
   },
   "outputs": [
    {
     "name": "stdout",
     "output_type": "stream",
     "text": [
      "Min, Max\n"
     ]
    },
    {
     "data": {
      "text/plain": [
       "(0, 6)"
      ]
     },
     "execution_count": 203,
     "metadata": {},
     "output_type": "execute_result"
    }
   ],
   "source": [
    "# min and max order days\n",
    "print('Min, Max')\n",
    "df_inst_orders['order_dow'].min(), df_inst_orders['order_dow'].max()"
   ]
  },
  {
   "cell_type": "code",
   "execution_count": 204,
   "id": "73c113bf",
   "metadata": {},
   "outputs": [
    {
     "data": {
      "text/plain": [
       "[0, 1, 2, 3, 4, 5, 6]"
      ]
     },
     "execution_count": 204,
     "metadata": {},
     "output_type": "execute_result"
    }
   ],
   "source": [
    "# list of order days\n",
    "sorted(df_inst_orders['order_dow'].unique())"
   ]
  },
  {
   "cell_type": "markdown",
   "id": "aa4a324e",
   "metadata": {},
   "source": [
    "#### Results "
   ]
  },
  {
   "cell_type": "markdown",
   "id": "afde9e79",
   "metadata": {},
   "source": [
    "First used describe to show min and max values of the columns, but using min/max for simplicity.\n",
    "Order hour of the day ranges from 0 to 23, which covers 24 hrs in a day.\n",
    "Order day of the week ranges from 0 to 6, which covers 7 days of the week.\n",
    "Assumption is made that the week starts on Sunday, [0]. We also confirm all seven days are accounted for, as well as every hour\n",
    " of the day. "
   ]
  },
  {
   "cell_type": "markdown",
   "id": "43b84f9d",
   "metadata": {},
   "source": [
    "### [A2] What time of day do people shop for groceries?"
   ]
  },
  {
   "cell_type": "code",
   "execution_count": 205,
   "id": "4a2c87aa",
   "metadata": {
    "scrolled": false
   },
   "outputs": [],
   "source": [
    "# create shop time dataframe\n",
    "df_shop_time = df_inst_orders['order_hour_of_day'].value_counts().sort_index()"
   ]
  },
  {
   "cell_type": "code",
   "execution_count": 206,
   "id": "99852621",
   "metadata": {},
   "outputs": [
    {
     "data": {
      "image/png": "[encoded data removed]",
      "text/plain": [
       "<Figure size 1440x648 with 1 Axes>"
      ]
     },
     "metadata": {
      "needs_background": "light"
     },
     "output_type": "display_data"
    }
   ],
   "source": [
    "# plotting shop time\n",
    "df_shop_time.plot(kind='bar', \n",
    "                title='Shopping by Time', \n",
    "                x='order_hour_of_day', \n",
    "                xlabel='Hour of the Day : 24 HR',\n",
    "                rot=0,\n",
    "                y='count',\n",
    "                ylabel='Number of Orders',\n",
    "                color='grey',\n",
    "               figsize=(20,9))\n",
    "plt.show()"
   ]
  },
  {
   "cell_type": "markdown",
   "id": "d9250d85",
   "metadata": {},
   "source": [
    "#### Results"
   ]
  },
  {
   "cell_type": "markdown",
   "id": "dc02e746",
   "metadata": {},
   "source": [
    "People shop for groceries throughout the day. Early morning has the lowest frequency.\n",
    "Most orders come in at 10 am. Late morning and early afternoons receive the most orders, so values are distributed towards the middle of the day.\n"
   ]
  },
  {
   "cell_type": "markdown",
   "id": "c7d77093",
   "metadata": {},
   "source": [
    "### [A3] What day of the week do people shop for groceries?"
   ]
  },
  {
   "cell_type": "code",
   "execution_count": 207,
   "id": "d4d9a059",
   "metadata": {
    "scrolled": false
   },
   "outputs": [
    {
     "name": "stdout",
     "output_type": "stream",
     "text": [
      "0    84090\n",
      "1    82185\n",
      "2    65833\n",
      "3    60912\n",
      "4    59810\n",
      "5    63488\n",
      "6    62649\n",
      "Name: order_dow, dtype: int64\n"
     ]
    }
   ],
   "source": [
    "# create day of week dataframe\n",
    "df_ord_dow = df_inst_orders['order_dow'].value_counts()\n",
    "df_ord_dow = df_ord_dow.sort_index()\n",
    "print(df_ord_dow)"
   ]
  },
  {
   "cell_type": "code",
   "execution_count": 208,
   "id": "6798d0f2",
   "metadata": {},
   "outputs": [
    {
     "data": {
      "image/png": "[encoded data removed]",
      "text/plain": [
       "<Figure size 648x648 with 1 Axes>"
      ]
     },
     "metadata": {
      "needs_background": "light"
     },
     "output_type": "display_data"
    }
   ],
   "source": [
    "# plot day of week\n",
    "df_ord_dow.plot(kind='bar', \n",
    "                title='Shopping by Day', \n",
    "                x='order_dow', \n",
    "                xlabel='Day of the Week : SUN - SAT',\n",
    "                rot=0,\n",
    "                y='count',\n",
    "                ylabel='Number of Orders',\n",
    "                color='green',\n",
    "               figsize=(9,9))\n",
    "plt.show()"
   ]
  },
  {
   "cell_type": "markdown",
   "id": "6f52503c",
   "metadata": {},
   "source": [
    "#### Results"
   ]
  },
  {
   "cell_type": "markdown",
   "id": "3439053c",
   "metadata": {},
   "source": [
    "People shop for groceries thorughout the week, with Sunday and Monday having the highest, and second highest\n",
    "amount of orders, respectively. The middle of the week sees the least amount of orders. "
   ]
  },
  {
   "cell_type": "markdown",
   "id": "75a2f421",
   "metadata": {},
   "source": [
    "### [A4] How long do people wait until placing another order?"
   ]
  },
  {
   "cell_type": "code",
   "execution_count": 209,
   "id": "9f73ef55",
   "metadata": {
    "scrolled": false
   },
   "outputs": [
    {
     "name": "stdout",
     "output_type": "stream",
     "text": [
      "0.0      9589\n",
      "1.0     20179\n",
      "2.0     27141\n",
      "3.0     30225\n",
      "4.0     31007\n",
      "5.0     30096\n",
      "6.0     33931\n",
      "7.0     44579\n",
      "8.0     25361\n",
      "9.0     16754\n",
      "10.0    13310\n",
      "11.0    11467\n",
      "12.0    10658\n",
      "13.0    11737\n",
      "14.0    13992\n",
      "15.0     9416\n",
      "16.0     6588\n",
      "17.0     5498\n",
      "18.0     4972\n",
      "19.0     4939\n",
      "20.0     5302\n",
      "21.0     6448\n",
      "22.0     4514\n",
      "23.0     3337\n",
      "24.0     3015\n",
      "25.0     2711\n",
      "26.0     2640\n",
      "27.0     2986\n",
      "28.0     3745\n",
      "29.0     2673\n",
      "30.0    51338\n",
      "Name: days_since_prior_order, dtype: int64\n"
     ]
    }
   ],
   "source": [
    "# create dataframe for wait for order\n",
    "df_wait_ord = df_inst_orders['days_since_prior_order'].value_counts().sort_index()\n",
    "print(df_wait_ord)"
   ]
  },
  {
   "cell_type": "code",
   "execution_count": 210,
   "id": "7b7f6b70",
   "metadata": {},
   "outputs": [
    {
     "data": {
      "image/png": "[encoded data removed]",
      "text/plain": [
       "<Figure size 1440x648 with 1 Axes>"
      ]
     },
     "metadata": {
      "needs_background": "light"
     },
     "output_type": "display_data"
    }
   ],
   "source": [
    "# plot wait for order\n",
    "df_wait_ord.plot(kind='bar', \n",
    "                title='Reorder Time', \n",
    "                x='days_since_prior_order', \n",
    "                xlabel='Number of Days Since Last Order',\n",
    "                rot=0,\n",
    "                y='count',\n",
    "                ylabel='Number of Orders',\n",
    "                color='orange',\n",
    "               figsize=(20,9))\n",
    "plt.show()"
   ]
  },
  {
   "cell_type": "markdown",
   "id": "02cb020d",
   "metadata": {},
   "source": [
    "#### Results"
   ]
  },
  {
   "cell_type": "markdown",
   "id": "6c21071f",
   "metadata": {},
   "source": [
    "People usually wait more than a month before placing another order, followed by waiting a week to place another order. We also notice local peaks in the data every seven days. This is in line with what we should expect, with perishable items needing to be replaced quite often, while other items can be frozen or stored for longer periods of time. With most of the orders distributed towards a one week timeframe, this suggests a bulk of the orders on the platform could be perishables. "
   ]
  },
  {
   "cell_type": "markdown",
   "id": "ae102be3",
   "metadata": {},
   "source": [
    "### [B1] Is there a difference in `'order_hour_of_day'` distributions on Wednesdays and Saturdays? Plot the histograms for both days and describe the differences that you see."
   ]
  },
  {
   "cell_type": "code",
   "execution_count": 211,
   "id": "daade568",
   "metadata": {},
   "outputs": [
    {
     "data": {
      "text/html": [
       "<div>\n",
       "<style scoped>\n",
       "    .dataframe tbody tr th:only-of-type {\n",
       "        vertical-align: middle;\n",
       "    }\n",
       "\n",
       "    .dataframe tbody tr th {\n",
       "        vertical-align: top;\n",
       "    }\n",
       "\n",
       "    .dataframe thead th {\n",
       "        text-align: right;\n",
       "    }\n",
       "</style>\n",
       "<table border=\"1\" class=\"dataframe\">\n",
       "  <thead>\n",
       "    <tr style=\"text-align: right;\">\n",
       "      <th></th>\n",
       "      <th>order_dow</th>\n",
       "    </tr>\n",
       "  </thead>\n",
       "  <tbody>\n",
       "    <tr>\n",
       "      <th>23</th>\n",
       "      <td>0</td>\n",
       "    </tr>\n",
       "    <tr>\n",
       "      <th>5</th>\n",
       "      <td>0</td>\n",
       "    </tr>\n",
       "    <tr>\n",
       "      <th>23</th>\n",
       "      <td>0</td>\n",
       "    </tr>\n",
       "    <tr>\n",
       "      <th>7</th>\n",
       "      <td>0</td>\n",
       "    </tr>\n",
       "    <tr>\n",
       "      <th>23</th>\n",
       "      <td>0</td>\n",
       "    </tr>\n",
       "    <tr>\n",
       "      <th>...</th>\n",
       "      <td>...</td>\n",
       "    </tr>\n",
       "    <tr>\n",
       "      <th>14</th>\n",
       "      <td>6</td>\n",
       "    </tr>\n",
       "    <tr>\n",
       "      <th>11</th>\n",
       "      <td>6</td>\n",
       "    </tr>\n",
       "    <tr>\n",
       "      <th>11</th>\n",
       "      <td>6</td>\n",
       "    </tr>\n",
       "    <tr>\n",
       "      <th>20</th>\n",
       "      <td>6</td>\n",
       "    </tr>\n",
       "    <tr>\n",
       "      <th>14</th>\n",
       "      <td>6</td>\n",
       "    </tr>\n",
       "  </tbody>\n",
       "</table>\n",
       "<p>478967 rows × 1 columns</p>\n",
       "</div>"
      ],
      "text/plain": [
       "    order_dow\n",
       "23          0\n",
       "5           0\n",
       "23          0\n",
       "7           0\n",
       "23          0\n",
       "..        ...\n",
       "14          6\n",
       "11          6\n",
       "11          6\n",
       "20          6\n",
       "14          6\n",
       "\n",
       "[478967 rows x 1 columns]"
      ]
     },
     "metadata": {},
     "output_type": "display_data"
    }
   ],
   "source": [
    "# order hour by day of the week\n",
    "display(df_inst_orders.query('order_hour_of_day')[['order_dow']].sort_values(by='order_dow'))"
   ]
  },
  {
   "cell_type": "code",
   "execution_count": 216,
   "id": "25cff4c0",
   "metadata": {},
   "outputs": [
    {
     "data": {
      "image/png": "[encoded data removed]",
      "text/plain": [
       "<Figure size 1440x648 with 1 Axes>"
      ]
     },
     "metadata": {
      "needs_background": "light"
     },
     "output_type": "display_data"
    }
   ],
   "source": [
    "# wednesday and saturday orders\n",
    "tmp = df_inst_orders.query('order_dow == 4 or order_dow == 6').pivot_table(index = 'order_hour_of_day',\n",
    "                                 columns = 'order_dow',\n",
    "                                 values = 'order_id',\n",
    "                                 aggfunc = 'count')\n",
    "tmp.columns = ['Wednesday', 'Saturday']\n",
    "tmp.plot(kind='bar', \n",
    "                title='Saturday Shopping by Time',  \n",
    "                xlabel='Time of the Day : 24 Hr',\n",
    "                rot=0,\n",
    "                ylabel='Number of Orders',\n",
    "                color=('purple', 'black'),\n",
    "               figsize=(20,9))\n",
    "plt.show()"
   ]
  },
  {
   "cell_type": "markdown",
   "id": "39594eb7",
   "metadata": {},
   "source": [
    "#### Results"
   ]
  },
  {
   "cell_type": "markdown",
   "id": "d90bc677",
   "metadata": {},
   "source": [
    "Orders from both days have a similar distribution, with more orders during the middle of the day. Early morning sees the least amount of orders. Orders tail off in the evening. Initially, one would assume this data suggests most customers follow a 9-5 work shcedule. Yet, the data includes Saturday, when most people are off from work. A stronger realtionship may be seen with typical sleep schedules, as people go to sleep from the late evening, to the early morning.   "
   ]
  },
  {
   "cell_type": "markdown",
   "id": "1d211c1c",
   "metadata": {},
   "source": [
    "### [B2] What's the distribution for the number of orders per customer?"
   ]
  },
  {
   "cell_type": "code",
   "execution_count": 217,
   "id": "25fb1531",
   "metadata": {
    "scrolled": true
   },
   "outputs": [
    {
     "name": "stdout",
     "output_type": "stream",
     "text": [
      "183418    38\n",
      "163593    11\n",
      "39980      3\n",
      "82516     11\n",
      "196724     5\n",
      "          ..\n",
      "5617      24\n",
      "112087     1\n",
      "82944     21\n",
      "4391      58\n",
      "1730      27\n",
      "Name: order_number, Length: 478967, dtype: int64\n"
     ]
    }
   ],
   "source": [
    "# creating order per customer dataframe\n",
    "df_ord_per_cus = df_inst_orders.query('user_id')['order_number']\n",
    "print(df_ord_per_cus)"
   ]
  },
  {
   "cell_type": "code",
   "execution_count": 218,
   "id": "0e5facfc",
   "metadata": {
    "scrolled": true
   },
   "outputs": [
    {
     "data": {
      "text/plain": [
       "user_id\n",
       "2         2\n",
       "4         2\n",
       "5         1\n",
       "6         2\n",
       "7         2\n",
       "         ..\n",
       "206203    1\n",
       "206206    7\n",
       "206207    5\n",
       "206208    9\n",
       "206209    2\n",
       "Name: order_number, Length: 157437, dtype: int64"
      ]
     },
     "metadata": {},
     "output_type": "display_data"
    }
   ],
   "source": [
    "# adding count\n",
    "df_ord_per_cus = df_inst_orders.groupby('user_id')['order_number'].count()\n",
    "display(df_ord_per_cus)"
   ]
  },
  {
   "cell_type": "code",
   "execution_count": 219,
   "id": "aa93aed4",
   "metadata": {
    "scrolled": false
   },
   "outputs": [
    {
     "data": {
      "text/plain": [
       "Text(0, 0.5, 'Number of users')"
      ]
     },
     "execution_count": 219,
     "metadata": {},
     "output_type": "execute_result"
    },
    {
     "data": {
      "image/png": "[encoded data removed]",
      "text/plain": [
       "<Figure size 720x360 with 1 Axes>"
      ]
     },
     "metadata": {
      "needs_background": "light"
     },
     "output_type": "display_data"
    }
   ],
   "source": [
    "# plotting orders per customer\n",
    "df_ord_per_cus.hist(figsize=(10,5), bins=25)\n",
    "plt.title('Orders Per Customer')\n",
    "plt.xlabel('Number of orders')\n",
    "plt.ylabel('Number of users')"
   ]
  },
  {
   "cell_type": "markdown",
   "id": "b07ee73d",
   "metadata": {},
   "source": [
    "#### Results "
   ]
  },
  {
   "cell_type": "markdown",
   "id": "cf1e2b7d",
   "metadata": {},
   "source": [
    "The histogram is skewed right. The majority of people order a few times, once or twice, but generally under 5 times. The number of customers that order more than 5 times is proportionally small. This is vital information on customer retention. More research needs to be conducted to determine what factors lead to low retention, and methods of increasing retention. "
   ]
  },
  {
   "cell_type": "markdown",
   "id": "30bcb923",
   "metadata": {},
   "source": [
    "### [B3] What are the top 20 popular products (display their id and name)?"
   ]
  },
  {
   "cell_type": "code",
   "execution_count": 224,
   "id": "f80f9af1",
   "metadata": {},
   "outputs": [
    {
     "data": {
      "text/html": [
       "<div>\n",
       "<style scoped>\n",
       "    .dataframe tbody tr th:only-of-type {\n",
       "        vertical-align: middle;\n",
       "    }\n",
       "\n",
       "    .dataframe tbody tr th {\n",
       "        vertical-align: top;\n",
       "    }\n",
       "\n",
       "    .dataframe thead th {\n",
       "        text-align: right;\n",
       "    }\n",
       "</style>\n",
       "<table border=\"1\" class=\"dataframe\">\n",
       "  <thead>\n",
       "    <tr style=\"text-align: right;\">\n",
       "      <th></th>\n",
       "      <th>product_id</th>\n",
       "      <th>product_name</th>\n",
       "      <th>order_id</th>\n",
       "    </tr>\n",
       "  </thead>\n",
       "  <tbody>\n",
       "    <tr>\n",
       "      <th>22808</th>\n",
       "      <td>24852</td>\n",
       "      <td>banana</td>\n",
       "      <td>66050</td>\n",
       "    </tr>\n",
       "    <tr>\n",
       "      <th>12025</th>\n",
       "      <td>13176</td>\n",
       "      <td>bag of organic bananas</td>\n",
       "      <td>53297</td>\n",
       "    </tr>\n",
       "    <tr>\n",
       "      <th>19370</th>\n",
       "      <td>21137</td>\n",
       "      <td>organic strawberries</td>\n",
       "      <td>37039</td>\n",
       "    </tr>\n",
       "    <tr>\n",
       "      <th>20077</th>\n",
       "      <td>21903</td>\n",
       "      <td>organic baby spinach</td>\n",
       "      <td>33971</td>\n",
       "    </tr>\n",
       "    <tr>\n",
       "      <th>43271</th>\n",
       "      <td>47209</td>\n",
       "      <td>organic hass avocado</td>\n",
       "      <td>29773</td>\n",
       "    </tr>\n",
       "    <tr>\n",
       "      <th>43788</th>\n",
       "      <td>47766</td>\n",
       "      <td>organic avocado</td>\n",
       "      <td>24689</td>\n",
       "    </tr>\n",
       "    <tr>\n",
       "      <th>43663</th>\n",
       "      <td>47626</td>\n",
       "      <td>large lemon</td>\n",
       "      <td>21495</td>\n",
       "    </tr>\n",
       "    <tr>\n",
       "      <th>15364</th>\n",
       "      <td>16797</td>\n",
       "      <td>strawberries</td>\n",
       "      <td>20018</td>\n",
       "    </tr>\n",
       "    <tr>\n",
       "      <th>24047</th>\n",
       "      <td>26209</td>\n",
       "      <td>limes</td>\n",
       "      <td>19690</td>\n",
       "    </tr>\n",
       "    <tr>\n",
       "      <th>25556</th>\n",
       "      <td>27845</td>\n",
       "      <td>organic whole milk</td>\n",
       "      <td>19600</td>\n",
       "    </tr>\n",
       "    <tr>\n",
       "      <th>25666</th>\n",
       "      <td>27966</td>\n",
       "      <td>organic raspberries</td>\n",
       "      <td>19197</td>\n",
       "    </tr>\n",
       "    <tr>\n",
       "      <th>21025</th>\n",
       "      <td>22935</td>\n",
       "      <td>organic yellow onion</td>\n",
       "      <td>15898</td>\n",
       "    </tr>\n",
       "    <tr>\n",
       "      <th>22908</th>\n",
       "      <td>24964</td>\n",
       "      <td>organic garlic</td>\n",
       "      <td>15292</td>\n",
       "    </tr>\n",
       "    <tr>\n",
       "      <th>41244</th>\n",
       "      <td>45007</td>\n",
       "      <td>organic zucchini</td>\n",
       "      <td>14584</td>\n",
       "    </tr>\n",
       "    <tr>\n",
       "      <th>35996</th>\n",
       "      <td>39275</td>\n",
       "      <td>organic blueberries</td>\n",
       "      <td>13879</td>\n",
       "    </tr>\n",
       "    <tr>\n",
       "      <th>45561</th>\n",
       "      <td>49683</td>\n",
       "      <td>cucumber kirby</td>\n",
       "      <td>13675</td>\n",
       "    </tr>\n",
       "    <tr>\n",
       "      <th>25889</th>\n",
       "      <td>28204</td>\n",
       "      <td>organic fuji apple</td>\n",
       "      <td>12544</td>\n",
       "    </tr>\n",
       "    <tr>\n",
       "      <th>5375</th>\n",
       "      <td>5876</td>\n",
       "      <td>organic lemon</td>\n",
       "      <td>12232</td>\n",
       "    </tr>\n",
       "    <tr>\n",
       "      <th>7543</th>\n",
       "      <td>8277</td>\n",
       "      <td>apple honeycrisp organic</td>\n",
       "      <td>11993</td>\n",
       "    </tr>\n",
       "    <tr>\n",
       "      <th>37301</th>\n",
       "      <td>40706</td>\n",
       "      <td>organic grape tomatoes</td>\n",
       "      <td>11781</td>\n",
       "    </tr>\n",
       "  </tbody>\n",
       "</table>\n",
       "</div>"
      ],
      "text/plain": [
       "       product_id              product_name  order_id\n",
       "22808       24852                    banana     66050\n",
       "12025       13176    bag of organic bananas     53297\n",
       "19370       21137      organic strawberries     37039\n",
       "20077       21903      organic baby spinach     33971\n",
       "43271       47209      organic hass avocado     29773\n",
       "43788       47766           organic avocado     24689\n",
       "43663       47626               large lemon     21495\n",
       "15364       16797              strawberries     20018\n",
       "24047       26209                     limes     19690\n",
       "25556       27845        organic whole milk     19600\n",
       "25666       27966       organic raspberries     19197\n",
       "21025       22935      organic yellow onion     15898\n",
       "22908       24964            organic garlic     15292\n",
       "41244       45007          organic zucchini     14584\n",
       "35996       39275       organic blueberries     13879\n",
       "45561       49683            cucumber kirby     13675\n",
       "25889       28204        organic fuji apple     12544\n",
       "5375         5876             organic lemon     12232\n",
       "7543         8277  apple honeycrisp organic     11993\n",
       "37301       40706    organic grape tomatoes     11781"
      ]
     },
     "execution_count": 224,
     "metadata": {},
     "output_type": "execute_result"
    }
   ],
   "source": [
    "# merge product tables, get 20 largest products\n",
    "(df_order_prod\n",
    " .groupby('product_id')['order_id'].count().reset_index()\n",
    " .merge(df_prod,how='inner', on='product_id')\n",
    " .nlargest(20, 'order_id')\n",
    ")[['product_id','product_name','order_id']]"
   ]
  },
  {
   "cell_type": "markdown",
   "id": "b6766839",
   "metadata": {},
   "source": [
    "#### Results"
   ]
  },
  {
   "cell_type": "markdown",
   "id": "5cd1523d",
   "metadata": {},
   "source": [
    "This data shows the most popular products on the platform. We see the list is comprised of perishables. These items likely have a high count of reorders, as they do not last long, and would need to be replenished often. "
   ]
  },
  {
   "cell_type": "markdown",
   "id": "a8c8bcd0",
   "metadata": {},
   "source": [
    "### [C1] How many items do people typically buy in one order? What does the distribution look like?"
   ]
  },
  {
   "cell_type": "code",
   "execution_count": 225,
   "id": "07793b1f",
   "metadata": {},
   "outputs": [
    {
     "name": "stdout",
     "output_type": "stream",
     "text": [
      "1      21847\n",
      "2      26292\n",
      "3      29046\n",
      "4      31054\n",
      "5      31923\n",
      "       ...  \n",
      "98         1\n",
      "104        1\n",
      "108        1\n",
      "115        1\n",
      "127        1\n",
      "Name: product_id, Length: 90, dtype: int64\n"
     ]
    }
   ],
   "source": [
    "# creating one order dataframe\n",
    "df_one_order = df_order_prod.groupby('order_id')['product_id'].count().value_counts().sort_index()\n",
    "print(df_one_order)"
   ]
  },
  {
   "cell_type": "code",
   "execution_count": 227,
   "id": "af262fbf",
   "metadata": {
    "scrolled": false
   },
   "outputs": [
    {
     "data": {
      "image/png": "[encoded data removed]",
      "text/plain": [
       "<Figure size 1440x1080 with 1 Axes>"
      ]
     },
     "metadata": {
      "needs_background": "light"
     },
     "output_type": "display_data"
    }
   ],
   "source": [
    "# Cut off at 50 for ease of readability, beyond 50 is extraneous, does not give crucial information\n",
    "df_one_order.head(50).plot(kind='bar',\n",
    "                    title='Number of Items Per Order', \n",
    "                    y='count', \n",
    "                    ylabel='Number of orders',\n",
    "                    x='add_to_cart_order',\n",
    "                    xlabel='Number of Items',\n",
    "                    figsize= (20,15),\n",
    "                    xlim=[0,50]\n",
    "                 )\n",
    "plt.show()"
   ]
  },
  {
   "cell_type": "markdown",
   "id": "8b8ce9f3",
   "metadata": {},
   "source": [
    "#### Results"
   ]
  },
  {
   "cell_type": "markdown",
   "id": "c1b85308",
   "metadata": {},
   "source": [
    "The distribution of the data is skewed right. Most people buy only a handfull of items, less than 10. Most customers buy a total of 5 items. The chart was cut off at 50 items, as the values beyond that point apper to be insignificant. "
   ]
  },
  {
   "cell_type": "markdown",
   "id": "5a9e4ff6",
   "metadata": {},
   "source": [
    "### [C2] What are the top 20 items that are reordered most frequently (display their names and product IDs)?"
   ]
  },
  {
   "cell_type": "code",
   "execution_count": 229,
   "id": "f976402e",
   "metadata": {
    "scrolled": true
   },
   "outputs": [],
   "source": [
    "# group by reordered, merge with product id,\n",
    "df_merged = df_order_prod.merge(df_prod, on='product_id')\n"
   ]
  },
  {
   "cell_type": "code",
   "execution_count": 230,
   "id": "187651a6",
   "metadata": {},
   "outputs": [
    {
     "name": "stdout",
     "output_type": "stream",
     "text": [
      "product_id  product_name            \n",
      "24852       banana                      55763\n",
      "13176       bag of organic bananas      44450\n",
      "21137       organic strawberries        28639\n",
      "21903       organic baby spinach        26233\n",
      "47209       organic hass avocado        23629\n",
      "47766       organic avocado             18743\n",
      "27845       organic whole milk          16251\n",
      "47626       large lemon                 15044\n",
      "27966       organic raspberries         14748\n",
      "16797       strawberries                13945\n",
      "26209       limes                       13327\n",
      "22935       organic yellow onion        11145\n",
      "24964       organic garlic              10411\n",
      "45007       organic zucchini            10076\n",
      "49683       cucumber kirby               9538\n",
      "28204       organic fuji apple           8989\n",
      "8277        apple honeycrisp organic     8836\n",
      "39275       organic blueberries          8799\n",
      "5876        organic lemon                8412\n",
      "49235       organic half & half          8389\n",
      "dtype: int64\n"
     ]
    }
   ],
   "source": [
    "# Top 20 items reordered most frequently, closely resembles top 20 products. It would make sense that these two \n",
    "# results are similar.\n",
    "print(df_merged.query('reordered==1')[['product_id', 'product_name']].value_counts().head(20))"
   ]
  },
  {
   "cell_type": "markdown",
   "id": "8285651c",
   "metadata": {},
   "source": [
    "#### Results"
   ]
  },
  {
   "cell_type": "markdown",
   "id": "58951db7",
   "metadata": {},
   "source": [
    "Results show the top 20 items reorderd the most. As anticipated, many of these items are perishables that are also on the top 20 items ordered list. "
   ]
  },
  {
   "cell_type": "markdown",
   "id": "5ab1c17a",
   "metadata": {},
   "source": [
    "### [C3] What are the top 20 items that people put in their carts first? "
   ]
  },
  {
   "cell_type": "code",
   "execution_count": 111,
   "id": "d2b915f2",
   "metadata": {
    "scrolled": false
   },
   "outputs": [
    {
     "name": "stdout",
     "output_type": "stream",
     "text": [
      "         order_id  product_id  add_to_cart_order  reordered  \\\n",
      "0         2141543       11440                 17          0   \n",
      "1          147172       11440                  7          1   \n",
      "2         3341719       11440                  4          1   \n",
      "3         1938779       11440                  8          1   \n",
      "4         1728338       11440                 23          0   \n",
      "...           ...         ...                ...        ...   \n",
      "4545002    267402       45226                 14          0   \n",
      "4545003   2621676       25201                 10          0   \n",
      "4545004    937623       49153                  2          0   \n",
      "4545005    532895        8182                  1          0   \n",
      "4545006   3132243       40024                  1          0   \n",
      "\n",
      "                               product_name  aisle_id  department_id  \n",
      "0            chicken breast tenders breaded       129              1  \n",
      "1            chicken breast tenders breaded       129              1  \n",
      "2            chicken breast tenders breaded       129              1  \n",
      "3            chicken breast tenders breaded       129              1  \n",
      "4            chicken breast tenders breaded       129              1  \n",
      "...                                     ...       ...            ...  \n",
      "4545002   sweet teriyaki chicken oven sauce         5             13  \n",
      "4545003          crisp waters candle scents       101             17  \n",
      "4545004  shine collection brillance shampoo        22             11  \n",
      "4545005    total mint stripe gel toothpaste        20             11  \n",
      "4545006                 egg replacer powder        17             13  \n",
      "\n",
      "[4545007 rows x 7 columns]\n"
     ]
    }
   ],
   "source": [
    "# merging product names and order products\n",
    "df_order_merge = df_order_prod.merge(df_prod, on='product_id')\n",
    "print(df_order_merge)"
   ]
  },
  {
   "cell_type": "code",
   "execution_count": 112,
   "id": "e4ff9bf9",
   "metadata": {
    "scrolled": false
   },
   "outputs": [
    {
     "data": {
      "text/plain": [
       "product_name                 add_to_cart_order\n",
       "banana                       1                    15562\n",
       "bag of organic bananas       1                    11026\n",
       "organic whole milk           1                     4363\n",
       "organic strawberries         1                     3946\n",
       "organic hass avocado         1                     3390\n",
       "organic baby spinach         1                     3336\n",
       "organic avocado              1                     3044\n",
       "spring water                 1                     2336\n",
       "strawberries                 1                     2308\n",
       "organic raspberries          1                     2024\n",
       "sparkling water grapefruit   1                     1914\n",
       "organic half & half          1                     1797\n",
       "large lemon                  1                     1737\n",
       "soda                         1                     1733\n",
       "organic reduced fat milk     1                     1397\n",
       "limes                        1                     1370\n",
       "hass avocados                1                     1340\n",
       "organic reduced fat 2% milk  1                     1310\n",
       "half & half                  1                     1309\n",
       "raspberries                  1                     1246\n",
       "dtype: int64"
      ]
     },
     "execution_count": 112,
     "metadata": {},
     "output_type": "execute_result"
    }
   ],
   "source": [
    "# Top 20 products put in the cart first, reordered with names instead of product ID, with unknown in data\n",
    "df_order_merge.query(\"add_to_cart_order==1\")[['product_name','add_to_cart_order']].value_counts().head(20)"
   ]
  },
  {
   "cell_type": "code",
   "execution_count": 113,
   "id": "f9c576f3",
   "metadata": {
    "scrolled": false
   },
   "outputs": [
    {
     "data": {
      "text/plain": [
       "product_name                 product_id\n",
       "banana                       24852         15562\n",
       "bag of organic bananas       13176         11026\n",
       "organic whole milk           27845          4363\n",
       "organic strawberries         21137          3946\n",
       "organic hass avocado         47209          3390\n",
       "organic baby spinach         21903          3336\n",
       "organic avocado              47766          3044\n",
       "spring water                 19660          2336\n",
       "strawberries                 16797          2308\n",
       "organic raspberries          27966          2024\n",
       "sparkling water grapefruit   44632          1914\n",
       "organic half & half          49235          1797\n",
       "large lemon                  47626          1737\n",
       "soda                         196            1733\n",
       "organic reduced fat milk     38689          1397\n",
       "limes                        26209          1370\n",
       "hass avocados                12341          1340\n",
       "organic reduced fat 2% milk  5785           1310\n",
       "half & half                  27086          1309\n",
       "organic yellow onion         22935          1246\n",
       "dtype: int64"
      ]
     },
     "execution_count": 113,
     "metadata": {},
     "output_type": "execute_result"
    }
   ],
   "source": [
    "# Top 20 products  put in the cart first, reordered with names instead of product ID, unknown product removed\n",
    "df_merged.query(\"add_to_cart_order==1\")[['product_name','product_id']].value_counts().head(20)"
   ]
  },
  {
   "cell_type": "code",
   "execution_count": 114,
   "id": "f2ac504f",
   "metadata": {},
   "outputs": [
    {
     "data": {
      "text/html": [
       "<div>\n",
       "<style scoped>\n",
       "    .dataframe tbody tr th:only-of-type {\n",
       "        vertical-align: middle;\n",
       "    }\n",
       "\n",
       "    .dataframe tbody tr th {\n",
       "        vertical-align: top;\n",
       "    }\n",
       "\n",
       "    .dataframe thead th {\n",
       "        text-align: right;\n",
       "    }\n",
       "</style>\n",
       "<table border=\"1\" class=\"dataframe\">\n",
       "  <thead>\n",
       "    <tr style=\"text-align: right;\">\n",
       "      <th></th>\n",
       "      <th>product_name</th>\n",
       "    </tr>\n",
       "  </thead>\n",
       "  <tbody>\n",
       "    <tr>\n",
       "      <th>356246</th>\n",
       "      <td>banana</td>\n",
       "    </tr>\n",
       "    <tr>\n",
       "      <th>356247</th>\n",
       "      <td>banana</td>\n",
       "    </tr>\n",
       "    <tr>\n",
       "      <th>356248</th>\n",
       "      <td>banana</td>\n",
       "    </tr>\n",
       "    <tr>\n",
       "      <th>356249</th>\n",
       "      <td>banana</td>\n",
       "    </tr>\n",
       "    <tr>\n",
       "      <th>356250</th>\n",
       "      <td>banana</td>\n",
       "    </tr>\n",
       "    <tr>\n",
       "      <th>...</th>\n",
       "      <td>...</td>\n",
       "    </tr>\n",
       "    <tr>\n",
       "      <th>422291</th>\n",
       "      <td>banana</td>\n",
       "    </tr>\n",
       "    <tr>\n",
       "      <th>422292</th>\n",
       "      <td>banana</td>\n",
       "    </tr>\n",
       "    <tr>\n",
       "      <th>422293</th>\n",
       "      <td>banana</td>\n",
       "    </tr>\n",
       "    <tr>\n",
       "      <th>422294</th>\n",
       "      <td>banana</td>\n",
       "    </tr>\n",
       "    <tr>\n",
       "      <th>422295</th>\n",
       "      <td>banana</td>\n",
       "    </tr>\n",
       "  </tbody>\n",
       "</table>\n",
       "<p>66050 rows × 1 columns</p>\n",
       "</div>"
      ],
      "text/plain": [
       "       product_name\n",
       "356246       banana\n",
       "356247       banana\n",
       "356248       banana\n",
       "356249       banana\n",
       "356250       banana\n",
       "...             ...\n",
       "422291       banana\n",
       "422292       banana\n",
       "422293       banana\n",
       "422294       banana\n",
       "422295       banana\n",
       "\n",
       "[66050 rows x 1 columns]"
      ]
     },
     "execution_count": 114,
     "metadata": {},
     "output_type": "execute_result"
    }
   ],
   "source": [
    "# QC check on correct name and product ID\n",
    "df_merged.query(\"product_id==24852\")[['product_name']]"
   ]
  },
  {
   "cell_type": "code",
   "execution_count": 115,
   "id": "d4beb2b5",
   "metadata": {
    "scrolled": false
   },
   "outputs": [
    {
     "name": "stdout",
     "output_type": "stream",
     "text": [
      "product_id\n",
      "24852         15562\n",
      "13176         11026\n",
      "27845          4363\n",
      "21137          3946\n",
      "47209          3390\n",
      "21903          3336\n",
      "47766          3044\n",
      "19660          2336\n",
      "16797          2308\n",
      "27966          2024\n",
      "44632          1914\n",
      "49235          1797\n",
      "47626          1737\n",
      "196            1733\n",
      "38689          1397\n",
      "26209          1370\n",
      "12341          1340\n",
      "5785           1310\n",
      "27086          1309\n",
      "43352          1246\n",
      "dtype: int64\n"
     ]
    }
   ],
   "source": [
    "# creating merged dataframe\n",
    "df_prod_merged = df_order_prod.merge(df_prod, on='product_id')\n",
    "df_prod_merged = df_prod_merged.query('add_to_cart_order==1')[['product_id']].value_counts().head(20)\n",
    "print(df_prod_merged)"
   ]
  },
  {
   "cell_type": "markdown",
   "id": "7cd38262",
   "metadata": {},
   "source": [
    "#### Results"
   ]
  },
  {
   "cell_type": "markdown",
   "id": "90350bc2",
   "metadata": {},
   "source": [
    "Again, we see a similar trend from the tow previous results. The top 20 products put in the cart first are similar to the most popular products list, and the most popular products reordered list. "
   ]
  },
  {
   "cell_type": "markdown",
   "id": "ab2ee7ce",
   "metadata": {},
   "source": [
    "\n",
    "\n",
    "# Conclusions\n"
   ]
  },
  {
   "cell_type": "markdown",
   "id": "930bf1ab",
   "metadata": {},
   "source": [
    "After cleaning the data from duplicates and missing values, we were able to develop key insights on the Instacart platform. Using the several datasets provided by the company, we were able to illustrate the distribution of orders by the day of the week, and by the time of day. We saw that most orders were made on Sunday, and the least, on Wednesday. We also determined, when considering Wednesday and Saturday data, most orders were made during the middle of the day, with the amount tailing off in the late evening. Hardly any orders were made in the early morning, until around 7 am, on Wednesday or Saturday. These results suggest a probable correlation with typical sleep times. As such, resources should be implemented in the appropriate time frames, to maximize the amount of drivers available for deliveries. We determined the most popular products, as well as the most popular items reordered and placed in the cart first. These products were perishables: fruits, vegetables, and dairy products. Overall, we saw that most reorders were made after 30 days, and also within 7 days. Local peaks in reorders appeared in 7 day increments, yet not many orders were placed in between those weekly time frames. "
   ]
  }
 ],
 "metadata": {
  "kernelspec": {
   "display_name": "Python 3 (ipykernel)",
   "language": "python",
   "name": "python3"
  },
  "language_info": {
   "codemirror_mode": {
    "name": "ipython",
    "version": 3
   },
   "file_extension": ".py",
   "mimetype": "text/x-python",
   "name": "python",
   "nbconvert_exporter": "python",
   "pygments_lexer": "ipython3",
   "version": "3.9.12"
  },
  "toc": {
   "base_numbering": 1,
   "nav_menu": {},
   "number_sections": true,
   "sideBar": true,
   "skip_h1_title": true,
   "title_cell": "Table of Contents",
   "title_sidebar": "Contents",
   "toc_cell": true,
   "toc_position": {
    "height": "calc(100% - 180px)",
    "left": "10px",
    "top": "150px",
    "width": "308.225px"
   },
   "toc_section_display": true,
   "toc_window_display": true
  },
  "varInspector": {
   "cols": {
    "lenName": 16,
    "lenType": 16,
    "lenVar": 40
   },
   "kernels_config": {
    "python": {
     "delete_cmd_postfix": "",
     "delete_cmd_prefix": "del ",
     "library": "var_list.py",
     "varRefreshCmd": "print(var_dic_list())"
    },
    "r": {
     "delete_cmd_postfix": ") ",
     "delete_cmd_prefix": "rm(",
     "library": "var_list.r",
     "varRefreshCmd": "cat(var_dic_list()) "
    }
   },
   "types_to_exclude": [
    "module",
    "function",
    "builtin_function_or_method",
    "instance",
    "_Feature"
   ],
   "window_display": false
  },
  "vscode": {
   "interpreter": {
    "hash": "4f2b0cfe12c109b58467a02dc33230d9e6228c23b43020d2941c37e2a7dfdd3f"
   }
  }
 },
 "nbformat": 4,
 "nbformat_minor": 5
}
